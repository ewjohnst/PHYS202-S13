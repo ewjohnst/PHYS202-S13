{
 "metadata": {
  "name": "TrafficFlow"
 },
 "nbformat": 3,
 "nbformat_minor": 0,
 "worksheets": [
  {
   "cells": [
    {
     "cell_type": "markdown",
     "metadata": {},
     "source": [
      "Checkpoint 1\n",
      "=\n",
      "####Create a function called CA184 that takes an array of car positions and velocities along with the road length as arguments. The function should implement the CA184 ruleset for the cars and return the array with the new positions and velocities of the cars after one time step. Now test your function. Start with a road of length 40 and 5 cars. Generate a random integer starting location xi and velocity vi for each car and store it in an array that you can pass into your CA184 function. Print the values for xi, vi, gi before and after the function is called. Verify by hand that the function has worked as expected. Try a few more time steps just to be sure.\n"
     ]
    },
    {
     "cell_type": "code",
     "collapsed": false,
     "input": [
      "import math as math\n",
      "import numpy as np\n",
      "import random as rand\n",
      "\n",
      "road = 40 #Length of the road\n",
      "n_cars = 5 #Number of cars\n",
      "\n",
      "position = rand.randint(0,road) #randomized position\n",
      "velocity = rand.randint(0,road) #randomized velociy\n",
      "print position, velocity                    #array that has positions of all cars on road"
     ],
     "language": "python",
     "metadata": {},
     "outputs": [
      {
       "output_type": "stream",
       "stream": "stdout",
       "text": [
        "37 1\n"
       ]
      }
     ],
     "prompt_number": 32
    },
    {
     "cell_type": "code",
     "collapsed": false,
     "input": [
      "have to use shuffle\n",
      "array of x\n",
      "array of road (randomized)\n",
      "array of v\n",
      "sort\n",
      "put together"
     ],
     "language": "python",
     "metadata": {},
     "outputs": []
    },
    {
     "cell_type": "code",
     "collapsed": false,
     "input": [
      "#getting car positions\n",
      "def car_pos(num_cars, road_length):\n",
      "    car_pos = np.arange(1,road_length)\n",
      "    shuffle(car_pos)\n",
      "    return sort(car_pos[:num_cars]) #car positions\n",
      "    #blank_road = np.arange(1,40)\n",
      "    #print blank_road\n",
      "car_pos(5,40)"
     ],
     "language": "python",
     "metadata": {},
     "outputs": [
      {
       "output_type": "pyout",
       "prompt_number": 67,
       "text": [
        "array([ 3,  7, 14, 27, 39])"
       ]
      }
     ],
     "prompt_number": 67
    },
    {
     "cell_type": "code",
     "collapsed": false,
     "input": [
      "#Getting velocity\n",
      "def velocities(num_cars, Vmax):\n",
      "    v = np.array([])\n",
      "    for j in range(num_cars):\n",
      "        #j = rand.randint(0,5)\n",
      "        v = np.append(v,rand.randint(0,Vmax))\n",
      "    return v\n",
      "velocities(5,5)"
     ],
     "language": "python",
     "metadata": {},
     "outputs": [
      {
       "output_type": "pyout",
       "prompt_number": 73,
       "text": [
        "array([ 3.,  2.,  1.,  5.,  1.])"
       ]
      }
     ],
     "prompt_number": 73
    },
    {
     "cell_type": "code",
     "collapsed": false,
     "input": [
      "PosVel = np.array([car_pos(5,40), velocities(5,5)]) #array of positins and velocities\n",
      "print PosVel"
     ],
     "language": "python",
     "metadata": {},
     "outputs": [
      {
       "output_type": "stream",
       "stream": "stdout",
       "text": [
        "[[  3.  10.  12.  22.  32.]\n",
        " [  4.   3.   0.   1.   1.]]\n"
       ]
      }
     ],
     "prompt_number": 79
    },
    {
     "cell_type": "code",
     "collapsed": false,
     "input": [
      "print PosVel[0,0] #indexing my PosVel"
     ],
     "language": "python",
     "metadata": {},
     "outputs": [
      {
       "output_type": "stream",
       "stream": "stdout",
       "text": [
        "3.0\n"
       ]
      }
     ],
     "prompt_number": 81
    },
    {
     "cell_type": "code",
     "collapsed": false,
     "input": [
      "def CA184(PosVel, length, Vmax):\n",
      "    \"\"\"This function will take in the position and velocity of\n",
      "    cars on the road and return their position after 1 timestep\"\"\"\n",
      "    for car in PosVel[:0]:\n",
      "        initial = 0\n",
      "        step = 0\n",
      "        g = np.array[]\n",
      "        for a in range(len(PosVel[0])-1): #setting g, rule 1\n",
      "            np.append[g,(array[0,initial+1]-array[0,initial])-1]\n",
      "            step += 1\n",
      "        for b in PosVel[0]: #moving each car up, rule 6\n",
      "            if g[step] != 0:\n",
      "                b = += array[1, step]\n",
      "            else: #rule 2\n",
      "                b = b\n",
      "            if PosVel[:1] > g: #rule 3\n",
      "                PosVel[:1] = g\n",
      "            if PosVel[:1] < g and PosVel[:1] < Vmax: #rule 4\n",
      "                PosVel[:1] += 1\n",
      "            #can include a line here for random slowdowns\n",
      "    \n",
      "        \n",
      "        \n",
      "    "
     ],
     "language": "python",
     "metadata": {},
     "outputs": []
    },
    {
     "cell_type": "code",
     "collapsed": false,
     "input": [
      "print PosVel[0:]"
     ],
     "language": "python",
     "metadata": {},
     "outputs": [
      {
       "output_type": "stream",
       "stream": "stdout",
       "text": [
        "[[  3.  10.  12.  22.  32.]\n",
        " [  4.   3.   0.   1.   1.]]\n"
       ]
      }
     ],
     "prompt_number": 84
    },
    {
     "cell_type": "code",
     "collapsed": false,
     "input": [],
     "language": "python",
     "metadata": {},
     "outputs": []
    }
   ],
   "metadata": {}
  }
 ]
}