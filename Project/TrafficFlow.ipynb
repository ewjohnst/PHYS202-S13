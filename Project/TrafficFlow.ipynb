{
 "metadata": {
  "name": "TrafficFlow"
 },
 "nbformat": 3,
 "nbformat_minor": 0,
 "worksheets": [
  {
   "cells": [
    {
     "cell_type": "markdown",
     "metadata": {},
     "source": [
      "Homework 1\n",
      "=\n",
      "####Create a function called CA184 that takes an array of car positions and velocities along with the road length as arguments. The function should implement the CA184 ruleset for the cars and return the array with the new positions and velocities of the cars after one time step. Now test your function. Start with a road of length 40 and 5 cars. Generate a random integer starting location xi and velocity vi for each car and store it in an array that you can pass into your CA184 function. Print the values for xi, vi, gi before and after the function is called. Verify by hand that the function has worked as expected. Try a few more time steps just to be sure.\n"
     ]
    },
    {
     "cell_type": "code",
     "collapsed": false,
     "input": [
      "positions = []\n",
      "velocities = []\n",
      "def CA184(positions, velocities):"
     ],
     "language": "python",
     "metadata": {},
     "outputs": []
    }
   ],
   "metadata": {}
  }
 ]
}