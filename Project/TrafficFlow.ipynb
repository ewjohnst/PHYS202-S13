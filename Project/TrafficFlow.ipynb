{
 "metadata": {
  "name": "TrafficFlow"
 },
 "nbformat": 3,
 "nbformat_minor": 0,
 "worksheets": [
  {
   "cells": [
    {
     "cell_type": "markdown",
     "metadata": {},
     "source": [
      "Checkpoint 1\n",
      "=\n",
      "####Create a function called CA184 that takes an array of car positions and velocities along with the road length as arguments. The function should implement the CA184 ruleset for the cars and return the array with the new positions and velocities of the cars after one time step. Now test your function. Start with a road of length 40 and 5 cars. Generate a random integer starting location xi and velocity vi for each car and store it in an array that you can pass into your CA184 function. Print the values for xi, vi, gi before and after the function is called. Verify by hand that the function has worked as expected. Try a few more time steps just to be sure.\n"
     ]
    },
    {
     "cell_type": "code",
     "collapsed": false,
     "input": [
      "import math as math\n",
      "import numpy as np\n",
      "import random as rand\n",
      "\n",
      "road = 40 #Length of the road\n",
      "n_cars = 5 #Number of cars\n",
      "\n",
      "position = rand.randint(0,road) #randomized position\n",
      "velocity = rand.randint(0,road) #randomized velociy\n",
      "road_info =                     #array that has positions of all cars on road"
     ],
     "language": "python",
     "metadata": {},
     "outputs": [
      {
       "output_type": "stream",
       "stream": "stdout",
       "text": [
        "38 6\n"
       ]
      }
     ],
     "prompt_number": 3
    },
    {
     "cell_type": "code",
     "collapsed": false,
     "input": [
      "def CA184(road_info):\n",
      "    \"\"\"This function will take in the position and velocity of\n",
      "    cars on the road and return their position after 1 timestep\"\"\"\n",
      "    "
     ],
     "language": "python",
     "metadata": {},
     "outputs": []
    }
   ],
   "metadata": {}
  }
 ]
}