{
 "metadata": {
  "name": "Checkpoint#1"
 },
 "nbformat": 3,
 "nbformat_minor": 0,
 "worksheets": [
  {
   "cells": [
    {
     "cell_type": "markdown",
     "metadata": {},
     "source": [
      "Checkpoint 1\n",
      "=\n",
      "####Create a function called CA184 that takes an array of car positions and velocities along with the road length as arguments. The function should implement the CA184 ruleset for the cars and return the array with the new positions and velocities of the cars after one time step. Now test your function. Start with a road of length 40 and 5 cars. Generate a random integer starting location xi and velocity vi for each car and store it in an array that you can pass into your CA184 function. Print the values for xi, vi, gi before and after the function is called. Verify by hand that the function has worked as expected. Try a few more time steps just to be sure.\n"
     ]
    },
    {
     "cell_type": "code",
     "collapsed": false,
     "input": [
      "#This cell was just part of my first brainstorm, it's useless now\n",
      "import math as math\n",
      "import numpy as np\n",
      "import random as rand\n",
      "\n",
      "road = 40 #Length of the road\n",
      "n_cars = 5 #Number of cars\n",
      "\n",
      "position = rand.randint(0,road) #randomized position\n",
      "velocity = rand.randint(0,road) #randomized velociy\n",
      "print position, velocity                    #array that has positions of all cars on road"
     ],
     "language": "python",
     "metadata": {},
     "outputs": [
      {
       "output_type": "stream",
       "stream": "stdout",
       "text": [
        "8 5\n"
       ]
      }
     ],
     "prompt_number": 1
    },
    {
     "cell_type": "code",
     "collapsed": false,
     "input": [
      "#have to use shuffle\n",
      "#array of x\n",
      "#array of road (randomized)\n",
      "#array of v\n",
      "#sort\n",
      "#put together\n",
      "#make CA184, implement rules\n",
      "#show time steps work"
     ],
     "language": "python",
     "metadata": {},
     "outputs": [],
     "prompt_number": 2
    },
    {
     "cell_type": "code",
     "collapsed": false,
     "input": [
      "#getting car positions\n",
      "def car_pos(num_cars, road_length):\n",
      "    car_pos = np.arange(1,road_length)\n",
      "    shuffle(car_pos)\n",
      "    return sort(car_pos[:num_cars]) #car positions\n",
      "    #blank_road = np.arange(1,40)\n",
      "    #print blank_road\n",
      "car_pos(5,40)"
     ],
     "language": "python",
     "metadata": {},
     "outputs": [
      {
       "output_type": "pyout",
       "prompt_number": 3,
       "text": [
        "array([ 6, 11, 23, 31, 33])"
       ]
      }
     ],
     "prompt_number": 3
    },
    {
     "cell_type": "code",
     "collapsed": false,
     "input": [
      "#Getting velocity\n",
      "def velocities(num_cars, Vmax):\n",
      "    v = np.array([])\n",
      "    for j in range(num_cars):\n",
      "        #j = rand.randint(0,5)\n",
      "        v = np.append(v,rand.randint(0,Vmax))\n",
      "    return v\n",
      "velocities(5,5)"
     ],
     "language": "python",
     "metadata": {},
     "outputs": [
      {
       "output_type": "pyout",
       "prompt_number": 4,
       "text": [
        "array([ 5.,  2.,  3.,  0.,  2.])"
       ]
      }
     ],
     "prompt_number": 4
    },
    {
     "cell_type": "code",
     "collapsed": false,
     "input": [
      "PosVel = np.array([car_pos(5,40), velocities(5,5)]) #array of positins and velocities\n",
      "print PosVel"
     ],
     "language": "python",
     "metadata": {},
     "outputs": [
      {
       "output_type": "stream",
       "stream": "stdout",
       "text": [
        "[[  3.  11.  20.  29.  39.]\n",
        " [  4.   0.   4.   3.   0.]]\n"
       ]
      }
     ],
     "prompt_number": 22
    },
    {
     "cell_type": "code",
     "collapsed": false,
     "input": [
      "print PosVel[0,0] #indexing my PosVel and making sure it seems ok"
     ],
     "language": "python",
     "metadata": {},
     "outputs": [
      {
       "output_type": "stream",
       "stream": "stdout",
       "text": [
        "3.0\n"
       ]
      }
     ],
     "prompt_number": 23
    },
    {
     "cell_type": "code",
     "collapsed": false,
     "input": [
      "def CA184(PosVel, road_length, num_cars, Vmax):\n",
      "    for i in range(num_cars):\n",
      "        if i < (num_cars - 1): #Figuring out g for the cars but the last\n",
      "            if PosVel[0][i + 1] > PosVel[0][i]: #g if  car is not last one on road\n",
      "                g = PosVel[0][i + 1] - PosVel[0][i] - 1 #-1 b/c car can't move to an occupied spot\n",
      "            else: #g if car is last one on road as long as it has space after it\n",
      "                g = (road_length - PosVel[0][i]) + (PosVel[0][i+1]-1) #adds number of spaces till end to beginning-1st car\n",
      "        else: #If my last car is in the very last spot on the road\n",
      "            if PosVel[0][1] > PosVel[0][i]: #makes our last car now our first\n",
      "                g = PosVel[0][1] - PosVel[0][i] - 1 #g is the difference now between our first and 2nd\n",
      "            else:\n",
      "                g = (road_length - PosVel[0][i]) + (PosVel[0][1] - 1)\n",
      "        if g == 0: #Rule 2\n",
      "            PosVel[1][i] = 0\n",
      "        elif g < PosVel[1][i]: #rule 3\n",
      "            PosVel[1][i] = g\n",
      "        elif g > PosVel[1][i] and PosVel[1][i] < Vmax: #Rule 4\n",
      "            PosVel[1][i] = PosVel[1][i] + 1\n",
      "        #can add Rule 5 here later\n",
      "\n",
      "    \n",
      "    for i in range(num_cars): #Rule 6\n",
      "        if PosVel[0][i] + PosVel[1][i] <= road_length: #if each car has enough space until end of road\n",
      "            PosVel[0][i] = PosVel[0][i] + PosVel[1][i]\n",
      "        else: #only if the last car doesn't have enough space ahead and goes to beginning\n",
      "            PosVel[0][i] = PosVel[1][i] - (road_length - PosVel[0][i]) #rule 6 for last car\n",
      "    \n",
      "    return PosVel    \n"
     ],
     "language": "python",
     "metadata": {},
     "outputs": [],
     "prompt_number": 25
    },
    {
     "cell_type": "code",
     "collapsed": false,
     "input": [
      "PosVel #What everything is starting at so you don't have to scroll up"
     ],
     "language": "python",
     "metadata": {},
     "outputs": [
      {
       "output_type": "pyout",
       "prompt_number": 26,
       "text": [
        "array([[  3.,  11.,  20.,  29.,  39.],\n",
        "       [  4.,   0.,   4.,   3.,   0.]])"
       ]
      }
     ],
     "prompt_number": 26
    },
    {
     "cell_type": "code",
     "collapsed": false,
     "input": [
      "CA184(PosVel, 40, 5, 10) #test of the first time step"
     ],
     "language": "python",
     "metadata": {},
     "outputs": [
      {
       "output_type": "pyout",
       "prompt_number": 27,
       "text": [
        "array([[  8.,  12.,  25.,  33.,  40.],\n",
        "       [  5.,   1.,   5.,   4.,   1.]])"
       ]
      }
     ],
     "prompt_number": 27
    },
    {
     "cell_type": "code",
     "collapsed": false,
     "input": [
      "CA184(PosVel, 40, 5, 10) #test of the second time step"
     ],
     "language": "python",
     "metadata": {},
     "outputs": [
      {
       "output_type": "pyout",
       "prompt_number": 28,
       "text": [
        "array([[ 11.,  14.,  31.,  38.,   2.],\n",
        "       [  3.,   2.,   6.,   5.,   2.]])"
       ]
      }
     ],
     "prompt_number": 28
    },
    {
     "cell_type": "code",
     "collapsed": false,
     "input": [
      "CA184(PosVel, 40, 5, 10) #test of the third time step. I think it works!"
     ],
     "language": "python",
     "metadata": {},
     "outputs": [
      {
       "output_type": "pyout",
       "prompt_number": 29,
       "text": [
        "array([[ 13.,  17.,  37.,   1.,   5.],\n",
        "       [  2.,   3.,   6.,   3.,   3.]])"
       ]
      }
     ],
     "prompt_number": 29
    },
    {
     "cell_type": "code",
     "collapsed": false,
     "input": [
      "#slicing print PosVel[0:]"
     ],
     "language": "python",
     "metadata": {},
     "outputs": [],
     "prompt_number": 30
    }
   ],
   "metadata": {}
  }
 ]
}