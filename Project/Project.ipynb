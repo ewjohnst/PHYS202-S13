{
 "metadata": {
  "name": "Project"
 },
 "nbformat": 3,
 "nbformat_minor": 0,
 "worksheets": [
  {
   "cells": [
    {
     "cell_type": "markdown",
     "metadata": {},
     "source": [
      "Checkpoint 1\n",
      "=\n",
      "####Create a function called CA184 that takes an array of car positions and velocities along with the road length as arguments. The function should implement the CA184 ruleset for the cars and return the array with the new positions and velocities of the cars after one time step. Now test your function. Start with a road of length 40 and 5 cars. Generate a random integer starting location xi and velocity vi for each car and store it in an array that you can pass into your CA184 function. Print the values for xi, vi, gi before and after the function is called. Verify by hand that the function has worked as expected. Try a few more time steps just to be sure.\n"
     ]
    },
    {
     "cell_type": "code",
     "collapsed": false,
     "input": [
      "#This cell was just part of my first brainstorm, it's useless now\n",
      "import math as math\n",
      "import numpy as np\n",
      "import random as rand\n",
      "\n",
      "road = 40 #Length of the road\n",
      "n_cars = 5 #Number of cars\n",
      "\n",
      "position = rand.randint(0,road) #randomized position\n",
      "velocity = rand.randint(0,road) #randomized velociy\n",
      "print position, velocity                    #array that has positions of all cars on road"
     ],
     "language": "python",
     "metadata": {},
     "outputs": [
      {
       "output_type": "stream",
       "stream": "stdout",
       "text": [
        "1 0\n"
       ]
      }
     ],
     "prompt_number": 1
    },
    {
     "cell_type": "code",
     "collapsed": false,
     "input": [
      "#have to use shuffle\n",
      "#array of x\n",
      "#array of road (randomized)\n",
      "#array of v\n",
      "#sort\n",
      "#put together\n",
      "#make CA184, implement rules\n",
      "#show time steps work"
     ],
     "language": "python",
     "metadata": {},
     "outputs": [],
     "prompt_number": 2
    },
    {
     "cell_type": "code",
     "collapsed": false,
     "input": [
      "#getting car positions\n",
      "def car_pos(num_cars, road_length):\n",
      "    car_pos = np.arange(1,road_length)\n",
      "    shuffle(car_pos)\n",
      "    return sort(car_pos[:num_cars]) #car positions\n",
      "    #blank_road = np.arange(1,40)\n",
      "    #print blank_road\n",
      "car_pos(5,40)"
     ],
     "language": "python",
     "metadata": {},
     "outputs": [
      {
       "output_type": "pyout",
       "prompt_number": 3,
       "text": [
        "array([ 4, 27, 34, 38, 39])"
       ]
      }
     ],
     "prompt_number": 3
    },
    {
     "cell_type": "code",
     "collapsed": false,
     "input": [
      "#Getting velocity\n",
      "def velocities(num_cars, Vmax):\n",
      "    v = np.array([])\n",
      "    for j in range(num_cars):\n",
      "        #j = rand.randint(0,5)\n",
      "        v = np.append(v,rand.randint(0,Vmax))\n",
      "    return v\n",
      "velocities(5,5)"
     ],
     "language": "python",
     "metadata": {},
     "outputs": [
      {
       "output_type": "pyout",
       "prompt_number": 4,
       "text": [
        "array([ 3.,  4.,  0.,  0.,  2.])"
       ]
      }
     ],
     "prompt_number": 4
    },
    {
     "cell_type": "code",
     "collapsed": false,
     "input": [
      "PosVel = np.array([car_pos(5,40), velocities(5,5)]) #array of positins and velocities\n",
      "print PosVel"
     ],
     "language": "python",
     "metadata": {},
     "outputs": [
      {
       "output_type": "stream",
       "stream": "stdout",
       "text": [
        "[[ 10.  21.  22.  36.  38.]\n",
        " [  1.   5.   4.   2.   0.]]\n"
       ]
      }
     ],
     "prompt_number": 5
    },
    {
     "cell_type": "code",
     "collapsed": false,
     "input": [
      "print PosVel[0,0] #indexing my PosVel and making sure it seems ok"
     ],
     "language": "python",
     "metadata": {},
     "outputs": [
      {
       "output_type": "stream",
       "stream": "stdout",
       "text": [
        "10.0\n"
       ]
      }
     ],
     "prompt_number": 6
    },
    {
     "cell_type": "code",
     "collapsed": false,
     "input": [
      "def CA184(PosVel, road_length, num_cars, Vmax):\n",
      "    for i in range(num_cars):\n",
      "        if i < (num_cars - 1): #Figuring out g for the cars but the last\n",
      "            if PosVel[0][i + 1] > PosVel[0][i]: #g if  car is not last one on road\n",
      "                g = PosVel[0][i + 1] - PosVel[0][i] - 1 #-1 b/c car can't move to an occupied spot\n",
      "            else: #g if car is last one on road as long as it has space after it\n",
      "                g = (road_length - PosVel[0][i]) + (PosVel[0][i+1]-1) #adds number of spaces till end to beginning-1st car\n",
      "        else: #If my last car is in the very last spot on the road\n",
      "            if PosVel[0][1] > PosVel[0][i]: #makes our last car now our first\n",
      "                g = PosVel[0][1] - PosVel[0][i] - 1 #g is the difference now between our first and 2nd\n",
      "            else:\n",
      "                g = (road_length - PosVel[0][i]) + (PosVel[0][1] - 1)\n",
      "        if g == 0: #Rule 2\n",
      "            PosVel[1][i] = 0\n",
      "        elif g < PosVel[1][i]: #rule 3\n",
      "            PosVel[1][i] = g\n",
      "        elif g > PosVel[1][i] and PosVel[1][i] < Vmax: #Rule 4\n",
      "            PosVel[1][i] = PosVel[1][i] + 1\n",
      "        #can add Rule 5 here later\n",
      "\n",
      "    \n",
      "    for i in range(num_cars): #Rule 6\n",
      "        if PosVel[0][i] + PosVel[1][i] <= road_length: #if each car has enough space until end of road\n",
      "            PosVel[0][i] = PosVel[0][i] + PosVel[1][i]\n",
      "        else: #only if the last car doesn't have enough space ahead and goes to beginning\n",
      "            PosVel[0][i] = PosVel[1][i] - (road_length - PosVel[0][i]) #rule 6 for last car\n",
      "    \n",
      "    return PosVel    \n"
     ],
     "language": "python",
     "metadata": {},
     "outputs": [],
     "prompt_number": 7
    },
    {
     "cell_type": "code",
     "collapsed": false,
     "input": [
      "PosVel #What everything is starting at so you don't have to scroll up"
     ],
     "language": "python",
     "metadata": {},
     "outputs": [
      {
       "output_type": "pyout",
       "prompt_number": 8,
       "text": [
        "array([[ 10.,  21.,  22.,  36.,  38.],\n",
        "       [  1.,   5.,   4.,   2.,   0.]])"
       ]
      }
     ],
     "prompt_number": 8
    },
    {
     "cell_type": "code",
     "collapsed": false,
     "input": [
      "CA184(PosVel, 40, 5, 10) #test of the first time step"
     ],
     "language": "python",
     "metadata": {},
     "outputs": [
      {
       "output_type": "pyout",
       "prompt_number": 9,
       "text": [
        "array([[ 12.,  21.,  27.,  37.,  39.],\n",
        "       [  2.,   0.,   5.,   1.,   1.]])"
       ]
      }
     ],
     "prompt_number": 9
    },
    {
     "cell_type": "code",
     "collapsed": false,
     "input": [
      "CA184(PosVel, 40, 5, 10) #test of the second time step"
     ],
     "language": "python",
     "metadata": {},
     "outputs": [
      {
       "output_type": "pyout",
       "prompt_number": 10,
       "text": [
        "array([[ 15.,  22.,  33.,  38.,   1.],\n",
        "       [  3.,   1.,   6.,   1.,   2.]])"
       ]
      }
     ],
     "prompt_number": 10
    },
    {
     "cell_type": "code",
     "collapsed": false,
     "input": [
      "CA184(PosVel, 40, 5, 10) #test of the third time step. I think it works!"
     ],
     "language": "python",
     "metadata": {},
     "outputs": [
      {
       "output_type": "pyout",
       "prompt_number": 11,
       "text": [
        "array([[ 19.,  24.,  37.,  40.,   4.],\n",
        "       [  4.,   2.,   4.,   2.,   3.]])"
       ]
      }
     ],
     "prompt_number": 11
    },
    {
     "cell_type": "code",
     "collapsed": false,
     "input": [
      "#slicing print PosVel[0:]"
     ],
     "language": "python",
     "metadata": {},
     "outputs": [],
     "prompt_number": 13
    },
    {
     "cell_type": "markdown",
     "metadata": {},
     "source": [
      "Checkpoint 2\n",
      "=\n",
      "####Subscribe to the PolyLearn Help Forum for Project 2. Now that you have the CA184 ruleset implemented, you can edit it slightly to also give you the STCA ruleset. Test that it works with a road and some cars. Now implement the ASEP algorithm and create a function that will let you call it in the same way as the others - pass it an array of positions and velocities for the cars and the road length. Have it return the new positions/velocities after one time step. Test it the same way you tested your other functions to make sure it is working. Now create a program that will allow you to create the initial conditions for each model and call the functions N times each for those initial conditions. Compute the density of cars and the average velocity at each time step. Plot the current vs time and car position vs. time for each case. Now you are ready to explore current as a function of density. Create road/car pairs for 80 density values between 0 and 0.8. Make sure your road is long enough to have at least 10 cars on it in each case. Run the simulation for 150 time steps and plot the average velocity vs. density for each ruleset. Identify any phase transitions."
     ]
    },
    {
     "cell_type": "markdown",
     "metadata": {},
     "source": [
      "STCA Ruleset\n",
      "-"
     ]
    },
    {
     "cell_type": "code",
     "collapsed": false,
     "input": [
      "def STCA(PosVel, road_length, num_cars, Vmax, probability):\n",
      "    for i in range(num_cars):\n",
      "        if i < (num_cars - 1): #Figuring out g for the cars but the last\n",
      "            if PosVel[0][i + 1] > PosVel[0][i]: #g if  car is not last one on road\n",
      "                g = PosVel[0][i + 1] - PosVel[0][i] - 1 #-1 b/c car can't move to an occupied spot\n",
      "            else: #g if car is last one on road as long as it has space after it\n",
      "                g = (road_length - PosVel[0][i]) + (PosVel[0][i+1]-1) #adds number of spaces till end to beginning-1st car\n",
      "        else: #If my last car is in the very last spot on the road\n",
      "            if PosVel[0][1] > PosVel[0][i]: #makes our last car now our first\n",
      "                g = PosVel[0][1] - PosVel[0][i] - 1 #g is the difference now between our first and 2nd\n",
      "            else:\n",
      "                g = (road_length - PosVel[0][i]) + (PosVel[0][1] - 1)\n",
      "        if g == 0: #Rule 2\n",
      "            PosVel[1][i] = 0\n",
      "        elif g < PosVel[1][i]: #rule 3\n",
      "            PosVel[1][i] = g\n",
      "        elif g > PosVel[1][i] and PosVel[1][i] < Vmax: #Rule 4\n",
      "            PosVel[1][i] = PosVel[1][i] + 1\n",
      "        #can add Rule 5 here later\n",
      "        if random_sample(1) < probability and array[1][i] > 0: #random slowdown probability\n",
      "            PosVel[1][i]=PosVel[1][i] - 1\n",
      "\n",
      "    \n",
      "    for i in range(num_cars): #Rule 6\n",
      "        if PosVel[0][i] + PosVel[1][i] <= road_length: #if each car has enough space until end of road\n",
      "            PosVel[0][i] = PosVel[0][i] + PosVel[1][i]\n",
      "        else: #only if the last car doesn't have enough space ahead and goes to beginning\n",
      "            PosVel[0][i] = PosVel[1][i] - (road_length - PosVel[0][i]) #rule 6 for last car\n",
      "    \n",
      "    return PosVel"
     ],
     "language": "python",
     "metadata": {},
     "outputs": [],
     "prompt_number": 20
    },
    {
     "cell_type": "code",
     "collapsed": false,
     "input": [
      "PosVel"
     ],
     "language": "python",
     "metadata": {},
     "outputs": [
      {
       "output_type": "pyout",
       "prompt_number": 18,
       "text": [
        "array([[ 19.,  24.,  37.,  40.,   4.],\n",
        "       [  4.,   2.,   4.,   2.,   3.]])"
       ]
      }
     ],
     "prompt_number": 18
    },
    {
     "cell_type": "code",
     "collapsed": false,
     "input": [
      "STCA(PosVel, 40, 5, 5, 0) #test 1, probabilities >0 don't work?"
     ],
     "language": "python",
     "metadata": {},
     "outputs": [
      {
       "output_type": "pyout",
       "prompt_number": 27,
       "text": [
        "array([[ 35.,   1.,  11.,  17.,  23.],\n",
        "       [  5.,   5.,   5.,   5.,   5.]])"
       ]
      }
     ],
     "prompt_number": 27
    },
    {
     "cell_type": "code",
     "collapsed": false,
     "input": [
      "STCA(PosVel, 40, 5, 5, 0) #test 2"
     ],
     "language": "python",
     "metadata": {},
     "outputs": [
      {
       "output_type": "pyout",
       "prompt_number": 28,
       "text": [
        "array([[ 40.,   6.,  16.,  22.,  28.],\n",
        "       [  5.,   5.,   5.,   5.,   5.]])"
       ]
      }
     ],
     "prompt_number": 28
    },
    {
     "cell_type": "code",
     "collapsed": false,
     "input": [
      "STCA(PosVel, 40, 5, 5, 0) #test 3"
     ],
     "language": "python",
     "metadata": {},
     "outputs": [
      {
       "output_type": "pyout",
       "prompt_number": 29,
       "text": [
        "array([[  5.,  11.,  21.,  27.,  33.],\n",
        "       [  5.,   5.,   5.,   5.,   5.]])"
       ]
      }
     ],
     "prompt_number": 29
    },
    {
     "cell_type": "markdown",
     "metadata": {},
     "source": [
      "Asymmetric Stochastic Exclusion Principle (ASEP) Model\n",
      "-"
     ]
    },
    {
     "cell_type": "code",
     "collapsed": false,
     "input": [
      "def ASEP(PosVel, road_length, num_cars, Vmax):\n",
      "    \n",
      "    car_list = range(num_cars)\n",
      "    random.shuffle(car_list)\n",
      "    \n",
      "    for car in range(len(car_list)):\n",
      "        i = car_list[car]\n",
      "        if i < (num_cars - 1): #Figuring out g for the cars but the last\n",
      "            if PosVel[0][i + 1] > PosVel[0][i]: #g if  car is not last one on road\n",
      "                g = PosVel[0][i + 1] - PosVel[0][i] - 1 #-1 b/c car can't move to an occupied spot\n",
      "            else: #g if car is last one on road as long as it has space after it\n",
      "                g = (road_length - PosVel[0][i]) + (PosVel[0][i+1]-1) #adds number of spaces till end to beginning-1st car\n",
      "        else: #If my last car is in the very last spot on the road\n",
      "            if PosVel[0][1] > PosVel[0][i]: #makes our last car now our first\n",
      "                g = PosVel[0][1] - PosVel[0][i] - 1 #g is the difference now between our first and 2nd\n",
      "            else:\n",
      "                g = (road_length - PosVel[0][i]) + (PosVel[0][1] - 1)\n",
      "        if g == 0: #Rule 2\n",
      "            PosVel[1][i] = 0\n",
      "        elif g < PosVel[1][i]: #rule 3\n",
      "            PosVel[1][i] = g\n",
      "        elif g > PosVel[1][i] and PosVel[1][i] < Vmax: #Rule 4\n",
      "            PosVel[1][i] = PosVel[1][i] + 1\n",
      "        #can add Rule 5 here later\n",
      "\n",
      "        if PosVel[0][i] + PosVel[1][i] <= road_length: #if each car has enough space until end of road\n",
      "            PosVel[0][i] = PosVel[0][i] + PosVel[1][i]\n",
      "        else: #only if the last car doesn't have enough space ahead and goes to beginning\n",
      "            PosVel[0][i] = PosVel[1][i] - (road_length - PosVel[0][i]) #rule 6 for last car\n",
      "    \n",
      "    return PosVel    \n"
     ],
     "language": "python",
     "metadata": {},
     "outputs": [],
     "prompt_number": 30
    },
    {
     "cell_type": "code",
     "collapsed": false,
     "input": [
      "PosVel"
     ],
     "language": "python",
     "metadata": {},
     "outputs": [
      {
       "output_type": "pyout",
       "prompt_number": 38,
       "text": [
        "array([[  5.,  11.,  21.,  27.,  33.],\n",
        "       [  5.,   5.,   5.,   5.,   5.]])"
       ]
      }
     ],
     "prompt_number": 38
    },
    {
     "cell_type": "code",
     "collapsed": false,
     "input": [
      "ASEP(PosVel, 40, 5, 5) #test 1"
     ],
     "language": "python",
     "metadata": {},
     "outputs": [
      {
       "output_type": "pyout",
       "prompt_number": 39,
       "text": [
        "array([[ 10.,  16.,  26.,  32.,  38.],\n",
        "       [  5.,   5.,   5.,   5.,   5.]])"
       ]
      }
     ],
     "prompt_number": 39
    },
    {
     "cell_type": "code",
     "collapsed": false,
     "input": [
      "ASEP(PosVel, 40, 5, 5) #test 2"
     ],
     "language": "python",
     "metadata": {},
     "outputs": [
      {
       "output_type": "pyout",
       "prompt_number": 40,
       "text": [
        "array([[ 15.,  21.,  31.,  37.,   3.],\n",
        "       [  5.,   5.,   5.,   5.,   5.]])"
       ]
      }
     ],
     "prompt_number": 40
    },
    {
     "cell_type": "code",
     "collapsed": false,
     "input": [
      "ASEP(PosVel, 40, 5, 5) #test 3"
     ],
     "language": "python",
     "metadata": {},
     "outputs": [
      {
       "output_type": "pyout",
       "prompt_number": 41,
       "text": [
        "array([[ 20.,  26.,  36.,   2.,   8.],\n",
        "       [  5.,   5.,   5.,   5.,   5.]])"
       ]
      }
     ],
     "prompt_number": 41
    },
    {
     "cell_type": "code",
     "collapsed": false,
     "input": [
      "def initial_conditions(model, road_length, num_cars, Vmax, p, n):\n",
      "    if model == \"CA184\":\n",
      "        AveVel = np.zeros(n)\n",
      "        AvePos = np.zeros(n)\n",
      "        for a in range(n):\n",
      "            PosVel = CA184(PosVel, road_length, num_cars, Vmax)\n",
      "            position = 0; velocity = 0\n",
      "            for b in range(num_cars):\n",
      "                position += PosVel[0][b]\n",
      "                velocity += PosVel[1][b]\n",
      "            AvePos[a] = position/num_cars\n",
      "            AveVel[a] = velocity/num_cars\n",
      "        return AvePos, AveVel\n",
      "    if model == \"STCA\":\n",
      "        AveVel = np.zeros(n)\n",
      "        AvePos = np.zeros(n)\n",
      "        for c in range(n):\n",
      "            PosVel = STCA(PosVel, road_length, num_cars, Vmax, probability)\n",
      "            position = 0; velocity = 0\n",
      "            for d in range(num_cars):\n",
      "                position += PosVel[0][d]\n",
      "                velocity += PosVel[1][d]\n",
      "            AvePos[c] = position/num_cars\n",
      "            AveVel[c] = velocity/num_cars\n",
      "        return AvePos, AveVel\n",
      "    if model == \"STCA\":\n",
      "        AveVel = np.zeros(n)\n",
      "        AvePos = np.zeros(n)\n",
      "        for e in range(n):\n",
      "            PosVel = ASEP(PosVel, road_length, num_cars, Vmax)\n",
      "            position = 0; velocity = 0\n",
      "            for f in range(num_cars):\n",
      "                position += PosVel[0][f]\n",
      "                velocity += PosVel[1][f]\n",
      "            AvePos[e] = position/num_cars\n",
      "            AveVel[e] = velocity/num_cars\n",
      "        return AvePos, AveVel"
     ],
     "language": "python",
     "metadata": {},
     "outputs": [],
     "prompt_number": 42
    },
    {
     "cell_type": "code",
     "collapsed": false,
     "input": [
      "highway = initial_conditions(\"CA184\", 40, 10, 5)\n"
     ],
     "language": "python",
     "metadata": {},
     "outputs": []
    }
   ],
   "metadata": {}
  }
 ]
}