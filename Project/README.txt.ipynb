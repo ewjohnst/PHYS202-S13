{
 "metadata": {
  "name": "README.txt"
 },
 "nbformat": 3,
 "nbformat_minor": 0,
 "worksheets": [
  {
   "cells": [
    {
     "cell_type": "markdown",
     "metadata": {},
     "source": [
      "Project Choice: One-Dimensional Traffic Flows\n",
      "=\n",
      "Evan Johnston 5/14/13\n",
      "-"
     ]
    },
    {
     "cell_type": "code",
     "collapsed": false,
     "input": [],
     "language": "python",
     "metadata": {},
     "outputs": []
    }
   ],
   "metadata": {}
  }
 ]
}