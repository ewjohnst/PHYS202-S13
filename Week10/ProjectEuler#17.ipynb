{
 "metadata": {
  "name": "ProjectEuler#17"
 },
 "nbformat": 3,
 "nbformat_minor": 0,
 "worksheets": [
  {
   "cells": [
    {
     "cell_type": "markdown",
     "metadata": {},
     "source": [
      "###If the numbers 1 to 5 are written out in words: one, two, three, four, five, then there are 3+3+5+4+4=19 letters used in total.\n",
      "\n",
      "###If all the words from 1 to 1000 inclusive were written out in words, how many letters would be used?\n",
      "\n",
      "###Note: Don't count spaces or hyphens. For example, 342 (three hundred and forty-two) contains 23 letters and 115 (one hundred and fifteen) contains 20 letters. The use of \"and\" when writing out numbers is in compliance with British usage. GO!"
     ]
    },
    {
     "cell_type": "code",
     "collapsed": false,
     "input": [
      "def numbers_to_letters(n):\n",
      "    ones = {1: 'one', 2: 'two', 3: 'three', 4: 'four', 5: 'five', 6: 'six', 7: 'seven', 8: 'eight', 9: 'nine', 10: 'ten',\n",
      "             11: 'eleven', 12: 'twelve', 13: 'thirteen', 14: 'fourteen', 15: 'fifteen', 16: 'sixteen', 17: 'seventeen', \n",
      "             18: 'eighteen',  19: 'nineteen'}\n",
      "           \n",
      "    tens = {2: 'twenty', 3: 'thirty', 4: 'forty', 5: 'fifty', 6: 'sixty', 7: 'seventy', 8: 'eighty', 9: 'ninety'}\n",
      "            \n",
      "    output = ''\n",
      "    \n",
      "    if n >= 1000:\n",
      "        output += ones[n / 1000]\n",
      "        if n % 1000 == 0:\n",
      "            output += \"thousand\"\n",
      "        else:\n",
      "            output += \"thousand\"\n",
      "        n %= 1000\n",
      "        \n",
      "    if n >= 100:\n",
      "        output += ones[n / 100]\n",
      "        if n % 100 == 0:\n",
      "            output += \"hundred\"\n",
      "        else:\n",
      "            output += \"hundredand\"\n",
      "        n %= 100\n",
      "        \n",
      "    if n >= 20:\n",
      "        output += tens[n / 10]\n",
      "        n %= 10\n",
      "        if n % 10 in ones:\n",
      "            output += ''\n",
      "        \n",
      "    if n in ones:\n",
      "            output += ones[n]\n",
      "     \n",
      "    return output"
     ],
     "language": "python",
     "metadata": {},
     "outputs": [],
     "prompt_number": 49
    },
    {
     "cell_type": "code",
     "collapsed": false,
     "input": [
      "numbers_to_letters(230) #test 1"
     ],
     "language": "python",
     "metadata": {},
     "outputs": [
      {
       "output_type": "pyout",
       "prompt_number": 50,
       "text": [
        "'twohundredandthirty'"
       ]
      }
     ],
     "prompt_number": 50
    },
    {
     "cell_type": "code",
     "collapsed": false,
     "input": [
      "numbers_to_letters(2356) #test 2"
     ],
     "language": "python",
     "metadata": {},
     "outputs": [
      {
       "output_type": "pyout",
       "prompt_number": 43,
       "text": [
        "'twothousandthreehundredandfiftysix'"
       ]
      }
     ],
     "prompt_number": 43
    },
    {
     "cell_type": "code",
     "collapsed": false,
     "input": [
      "numbers_to_letters(25) #test 3"
     ],
     "language": "python",
     "metadata": {},
     "outputs": [
      {
       "output_type": "pyout",
       "prompt_number": 44,
       "text": [
        "'twentyfive'"
       ]
      }
     ],
     "prompt_number": 44
    },
    {
     "cell_type": "code",
     "collapsed": false,
     "input": [
      "print sum(len(numbers_to_letters(i)) for i in range(1,6)) #testing given info\n",
      "#it works!"
     ],
     "language": "python",
     "metadata": {},
     "outputs": [
      {
       "output_type": "stream",
       "stream": "stdout",
       "text": [
        "19\n"
       ]
      }
     ],
     "prompt_number": 45
    },
    {
     "cell_type": "code",
     "collapsed": false,
     "input": [
      "print sum(len(numbers_to_letters(i)) for i in range(1, 1001))"
     ],
     "language": "python",
     "metadata": {},
     "outputs": [
      {
       "output_type": "stream",
       "stream": "stdout",
       "text": [
        "21124\n"
       ]
      }
     ],
     "prompt_number": 46
    },
    {
     "cell_type": "markdown",
     "metadata": {},
     "source": [
      "##So there are 21,124 letters in the numbers from one to one thousand!"
     ]
    },
    {
     "cell_type": "code",
     "collapsed": false,
     "input": [],
     "language": "python",
     "metadata": {},
     "outputs": []
    }
   ],
   "metadata": {}
  }
 ]
}