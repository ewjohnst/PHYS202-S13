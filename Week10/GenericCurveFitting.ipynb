{
 "metadata": {
  "name": "GenericCurveFitting"
 },
 "nbformat": 3,
 "nbformat_minor": 0,
 "worksheets": [
  {
   "cells": [
    {
     "cell_type": "markdown",
     "metadata": {},
     "source": [
      "Exercise 1\n",
      "-\n",
      "###A. read in the radioactiveecay.dat file and plot the results as blue stars."
     ]
    },
    {
     "cell_type": "code",
     "collapsed": false,
     "input": [
      "DataIn = loadtxt('radioactivedecay.dat')\n",
      "print DataIn.shape #to the end of the names of files!\n",
      "print DataIn"
     ],
     "language": "python",
     "metadata": {},
     "outputs": [
      {
       "output_type": "stream",
       "stream": "stdout",
       "text": [
        "(16L, 2L)\n",
        "[[  0.    10.48]\n",
        " [  1.     7.54]\n",
        " [  2.     5.49]\n",
        " [  3.     4.02]\n",
        " [  4.     2.74]\n",
        " [  5.     2.02]\n",
        " [  6.     1.5 ]\n",
        " [  7.     1.09]\n",
        " [  8.     0.68]\n",
        " [  9.     0.57]\n",
        " [ 10.     0.37]\n",
        " [ 11.     0.31]\n",
        " [ 12.     0.19]\n",
        " [ 13.     0.15]\n",
        " [ 14.     0.13]\n",
        " [ 15.     0.11]]\n"
       ]
      }
     ],
     "prompt_number": 1
    },
    {
     "cell_type": "code",
     "collapsed": false,
     "input": [
      "x, y = loadtxt('radioactivedecay.dat', unpack=True, usecols=[0,1])\n",
      "print x\n",
      "print y"
     ],
     "language": "python",
     "metadata": {},
     "outputs": [
      {
       "output_type": "stream",
       "stream": "stdout",
       "text": [
        "[  0.   1.   2.   3.   4.   5.   6.   7.   8.   9.  10.  11.  12.  13.  14.\n",
        "  15.]\n",
        "[ 10.48   7.54   5.49   4.02   2.74   2.02   1.5    1.09   0.68   0.57\n",
        "   0.37   0.31   0.19   0.15   0.13   0.11]\n"
       ]
      }
     ],
     "prompt_number": 2
    },
    {
     "cell_type": "code",
     "collapsed": false,
     "input": [
      "plot(x, y, 'b*', ms = 8, label=\"N-remaining\")\n",
      "xlabel(\"Time(s)\")\n",
      "ylabel(\"N-remaining\")\n",
      "show()"
     ],
     "language": "python",
     "metadata": {},
     "outputs": [
      {
       "output_type": "display_data",
       "png": "[encoded data removed]"
      }
     ],
     "prompt_number": 3
    },
    {
     "cell_type": "markdown",
     "metadata": {},
     "source": [
      "###B. plot N vs ln(t). You'll have to think about how to account for the first datapoint at t = 0, since you can't take the natural log of zero."
     ]
    },
    {
     "cell_type": "code",
     "collapsed": false,
     "input": [
      "plot(x[1:], log(y[1:]), 'b*', ms=8) #doesn't show ln(0) pt\n",
      "plot(0, log(10.48), 'b*', ms=8)"
     ],
     "language": "python",
     "metadata": {},
     "outputs": [
      {
       "output_type": "pyout",
       "prompt_number": 4,
       "text": [
        "[<matplotlib.lines.Line2D at 0x83517b8>]"
       ]
      },
      {
       "output_type": "display_data",
       "png": "[encoded data removed]"
      }
     ],
     "prompt_number": 4
    },
    {
     "cell_type": "markdown",
     "metadata": {},
     "source": [
      "###C. Use nano to create a new file called CurveFitting.py. Put your LinearLeastSquaresFit and WeightedLeastSquaresFit functions from last week into this file. Be sure to include a docstring with the functions."
     ]
    },
    {
     "cell_type": "code",
     "collapsed": false,
     "input": [
      "#see nano called CurveFitting.py"
     ],
     "language": "python",
     "metadata": {},
     "outputs": [],
     "prompt_number": 5
    },
    {
     "cell_type": "markdown",
     "metadata": {},
     "source": [
      "###D. Import the functions from your CurveFitting package and fit the data from part B. with the LinearLeastSquaresFit. Report the parameters and the uncertainies and plot the data with the fit curve to show how well the data match the exponential decay model."
     ]
    },
    {
     "cell_type": "code",
     "collapsed": false,
     "input": [
      "import CurveFitting"
     ],
     "language": "python",
     "metadata": {},
     "outputs": [],
     "prompt_number": 7
    },
    {
     "cell_type": "code",
     "collapsed": false,
     "input": [],
     "language": "python",
     "metadata": {},
     "outputs": [],
     "prompt_number": 4
    },
    {
     "cell_type": "markdown",
     "metadata": {},
     "source": [
      "Generic Curve Fitting\n",
      "-"
     ]
    },
    {
     "cell_type": "code",
     "collapsed": false,
     "input": [],
     "language": "python",
     "metadata": {},
     "outputs": [],
     "prompt_number": 4
    }
   ],
   "metadata": {}
  }
 ]
}