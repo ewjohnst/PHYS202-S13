{
 "metadata": {
  "name": "ProjectEuler#25"
 },
 "nbformat": 3,
 "nbformat_minor": 0,
 "worksheets": [
  {
   "cells": [
    {
     "cell_type": "markdown",
     "metadata": {},
     "source": [
      "Project Euler #25\n",
      "="
     ]
    },
    {
     "cell_type": "markdown",
     "metadata": {},
     "source": [
      "\n",
      "The Fibonacci sequence is defined by the recurrence relation:\n",
      "\n",
      "Fn = Fn\u22121 + Fn\u22122, where F1 = 1 and F2 = 1.\n",
      "\n",
      "Hence the first 12 terms will be:\n",
      "\n",
      " F1 = 1,\n",
      " F2 = 1,\n",
      " F3 = 2,\n",
      " F4 = 3,\n",
      " F5 = 5,\n",
      " F6 = 8,\n",
      " F7 = 13,\n",
      " F8 = 21,\n",
      " F9 = 34,\n",
      " F10 = 55,\n",
      " F11 = 89,\n",
      " F12 = 144,\n",
      "\n",
      "The 12th term, F12, is the first term to contain three digits.\n",
      "\n",
      "What is the first term in the Fibonacci sequence to contain 1000 digits?"
     ]
    },
    {
     "cell_type": "markdown",
     "metadata": {},
     "source": [
      "Solution\n",
      "-"
     ]
    },
    {
     "cell_type": "code",
     "collapsed": false,
     "input": [
      "first = 1\n",
      "second = 1\n",
      "answer = 0\n",
      "n = 2\n",
      "while True: #While this is true, the function will\n",
      "    \"\"\"While this function is true, the function\n",
      "    will keep running. Beware infinite loop!\"\"\"\n",
      "    answer = first + second #3rd value = 1st + 2nd\n",
      "    first = second #renames the first as the previous second\n",
      "    second = answer #renames the second as the previous answer\n",
      "    n += 1 #tells my index (the n-th Fibonacci number, to increase by 1 one each time\n",
      "    if len(str(answer)) == 1000: #if we get a number\n",
      "        print answer, n #with 1000 digits, print it\n",
      "        break #and stop\n",
      "    \n",
      "    "
     ],
     "language": "python",
     "metadata": {},
     "outputs": [
      {
       "output_type": "stream",
       "stream": "stdout",
       "text": [
        "1070066266382758936764980584457396885083683896632151665013235203375314520604694040621889147582489792657804694888177591957484336466672569959512996030461262748092482186144069433051234774442750273781753087579391666192149259186759553966422837148943113074699503439547001985432609723067290192870526447243726117715821825548491120525013201478612965931381792235559657452039506137551467837543229119602129934048260706175397706847068202895486902666185435124521900369480641357447470911707619766945691070098024393439617474103736912503231365532164773697023167755051595173518460579954919410967778373229665796581646513903488154256310184224190259846088000110186255550245493937113651657039447629584714548523425950428582425306083544435428212611008992863795048006894330309773217834864543113205765659868456288616808718693835297350643986297640660000723562917905207051164077614812491885830945940566688339109350944456576357666151619317753792891661581327159616877487983821820492520348473874384736771934512787029218636250627816 4782\n"
       ]
      }
     ],
     "prompt_number": 20
    },
    {
     "cell_type": "markdown",
     "metadata": {},
     "source": [
      "So the answer is that the 4782 number in the Fibonacci sequence will be the 1st to have 1000 digits!"
     ]
    },
    {
     "cell_type": "markdown",
     "metadata": {},
     "source": [
      "My work towards my answer\n",
      "-"
     ]
    },
    {
     "cell_type": "markdown",
     "metadata": {},
     "source": [
      "Maybe my hermite polynomial function can give me ideas on how to find the fibonacci number with 1000 digits."
     ]
    },
    {
     "cell_type": "code",
     "collapsed": false,
     "input": [
      "def H(n,x):\n",
      "    if n == 0:\n",
      "        return 1\n",
      "    elif n == 1:\n",
      "        return 2*x\n",
      "    elif n > 1:\n",
      "        return 2*x*H(n-1,x) - 2*(n-1)*H(n-2,x)\n",
      "print"
     ],
     "language": "python",
     "metadata": {},
     "outputs": [
      {
       "output_type": "stream",
       "stream": "stdout",
       "text": [
        "\n"
       ]
      }
     ],
     "prompt_number": 1
    },
    {
     "cell_type": "markdown",
     "metadata": {},
     "source": [
      "My Fibonacci function"
     ]
    },
    {
     "cell_type": "code",
     "collapsed": false,
     "input": [
      "def F(n): # This is my function that will give the\n",
      "    if n == 1: #Fibonacci numbers, given a certain n\n",
      "        return 1\n",
      "    elif n == 2:\n",
      "        return 1\n",
      "    elif n > 2:\n",
      "        return F(n-1) + F(n-2)"
     ],
     "language": "python",
     "metadata": {},
     "outputs": [],
     "prompt_number": 3
    },
    {
     "cell_type": "code",
     "collapsed": false,
     "input": [
      "F(7) #Test case 1"
     ],
     "language": "python",
     "metadata": {},
     "outputs": [
      {
       "output_type": "pyout",
       "prompt_number": 4,
       "text": [
        "13"
       ]
      }
     ],
     "prompt_number": 4
    },
    {
     "cell_type": "code",
     "collapsed": false,
     "input": [
      "F(3) #Test case 2"
     ],
     "language": "python",
     "metadata": {},
     "outputs": [
      {
       "output_type": "pyout",
       "prompt_number": 5,
       "text": [
        "2"
       ]
      }
     ],
     "prompt_number": 5
    },
    {
     "cell_type": "code",
     "collapsed": false,
     "input": [
      "F(20) #Test case 3"
     ],
     "language": "python",
     "metadata": {},
     "outputs": [
      {
       "output_type": "pyout",
       "prompt_number": 6,
       "text": [
        "6765"
       ]
      }
     ],
     "prompt_number": 6
    },
    {
     "cell_type": "code",
     "collapsed": false,
     "input": [
      "for number in range(0,100):\n",
      "    \"\"\"This method would give the right answer, but\n",
      "    it would take a super long time. The method above\n",
      "    takes less than a second, so its much better!\"\"\"\n",
      "    if len(str(F(number))) == 10:\n",
      "        print len(str(F(number)))\n",
      "        break\n",
      "\n",
      "    "
     ],
     "language": "python",
     "metadata": {},
     "outputs": [],
     "prompt_number": 22
    },
    {
     "cell_type": "code",
     "collapsed": false,
     "input": [],
     "language": "python",
     "metadata": {},
     "outputs": []
    }
   ],
   "metadata": {}
  }
 ]
}