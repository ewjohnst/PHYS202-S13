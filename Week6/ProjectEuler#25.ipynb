{
 "metadata": {
  "name": "ProjectEuler#25"
 },
 "nbformat": 3,
 "nbformat_minor": 0,
 "worksheets": [
  {
   "cells": [
    {
     "cell_type": "markdown",
     "metadata": {},
     "source": [
      "Project Euler #25\n",
      "="
     ]
    },
    {
     "cell_type": "markdown",
     "metadata": {},
     "source": [
      "\n",
      "The Fibonacci sequence is defined by the recurrence relation:\n",
      "\n",
      "Fn = Fn\u22121 + Fn\u22122, where F1 = 1 and F2 = 1.\n",
      "\n",
      "Hence the first 12 terms will be:\n",
      "\n",
      " F1 = 1,\n",
      " F2 = 1,\n",
      " F3 = 2,\n",
      " F4 = 3,\n",
      " F5 = 5,\n",
      " F6 = 8,\n",
      " F7 = 13,\n",
      " F8 = 21,\n",
      " F9 = 34,\n",
      " F10 = 55,\n",
      " F11 = 89,\n",
      " F12 = 144,\n",
      "\n",
      "The 12th term, F12, is the first term to contain three digits.\n",
      "\n",
      "What is the first term in the Fibonacci sequence to contain 1000 digits?"
     ]
    },
    {
     "cell_type": "markdown",
     "metadata": {},
     "source": [
      "Solution\n",
      "-"
     ]
    },
    {
     "cell_type": "code",
     "collapsed": false,
     "input": [
      "first = 1\n",
      "second = 1\n",
      "answer = 0\n",
      "n = 2\n",
      "while True: #While this is true, the function will\n",
      "    \"\"\"While this function is true, the function\n",
      "    will keep running. Beware infinite loop!\"\"\"\n",
      "    answer = first + second #3rd value = 1st + 2nd\n",
      "    first = second #renames the first as the previous second\n",
      "    second = answer #renames the second as the previous answer\n",
      "    n += 1 #tells my index (the n-th Fibonacci number, to increase by 1 one each time\n",
      "    if len(str(answer)) == 1000: #if we get a number\n",
      "        print answer, n #with 1000 digits, print it\n",
      "        break #and stop\n",
      "    \n",
      "    "
     ],
     "language": "python",
     "metadata": {},
     "outputs": [],
     "prompt_number": "*"
    },
    {
     "cell_type": "markdown",
     "metadata": {},
     "source": [
      "So the answer is that the 4782 number in the Fibonacci sequence will be the 1st to have 1000 digits!"
     ]
    },
    {
     "cell_type": "markdown",
     "metadata": {},
     "source": [
      "My work towards my answer\n",
      "-"
     ]
    },
    {
     "cell_type": "markdown",
     "metadata": {},
     "source": [
      "Maybe my hermite polynomial function can give me ideas on how to find the fibonacci number with 1000 digits."
     ]
    },
    {
     "cell_type": "code",
     "collapsed": false,
     "input": [
      "def H(n,x):\n",
      "    if n == 0:\n",
      "        return 1\n",
      "    elif n == 1:\n",
      "        return 2*x\n",
      "    elif n > 1:\n",
      "        return 2*x*H(n-1,x) - 2*(n-1)*H(n-2,x)\n",
      "print"
     ],
     "language": "python",
     "metadata": {},
     "outputs": [
      {
       "output_type": "stream",
       "stream": "stdout",
       "text": [
        "\n"
       ]
      }
     ],
     "prompt_number": 1
    },
    {
     "cell_type": "markdown",
     "metadata": {},
     "source": [
      "My Fibonacci function"
     ]
    },
    {
     "cell_type": "code",
     "collapsed": false,
     "input": [
      "def F(n): # This is my function that will give the\n",
      "    if n == 1: #Fibonacci numbers, given a certain n\n",
      "        return 1\n",
      "    elif n == 2:\n",
      "        return 1\n",
      "    elif n > 2:\n",
      "        return F(n-1) + F(n-2)"
     ],
     "language": "python",
     "metadata": {},
     "outputs": [],
     "prompt_number": 3
    },
    {
     "cell_type": "code",
     "collapsed": false,
     "input": [
      "F(7) #Test case 1"
     ],
     "language": "python",
     "metadata": {},
     "outputs": [
      {
       "output_type": "pyout",
       "prompt_number": 4,
       "text": [
        "13"
       ]
      }
     ],
     "prompt_number": 4
    },
    {
     "cell_type": "code",
     "collapsed": false,
     "input": [
      "F(3) #Test case 2"
     ],
     "language": "python",
     "metadata": {},
     "outputs": [
      {
       "output_type": "pyout",
       "prompt_number": 5,
       "text": [
        "2"
       ]
      }
     ],
     "prompt_number": 5
    },
    {
     "cell_type": "code",
     "collapsed": false,
     "input": [
      "F(20) #Test case 3"
     ],
     "language": "python",
     "metadata": {},
     "outputs": [
      {
       "output_type": "pyout",
       "prompt_number": 6,
       "text": [
        "6765"
       ]
      }
     ],
     "prompt_number": 6
    },
    {
     "cell_type": "code",
     "collapsed": false,
     "input": [
      "#for number in range(0,1):\n",
      "#    \"\"\"This method would give the right answer, but\n",
      "#    it would take a super long time. The method above\n",
      "#    takes less than a second, so its much better!\"\"\"\n",
      "#    if len(str(F(number))) == 10:\n",
      "#        print len(str(F(number)))\n",
      "#        break\n",
      "\n",
      "    "
     ],
     "language": "python",
     "metadata": {},
     "outputs": [],
     "prompt_number": "*"
    },
    {
     "cell_type": "code",
     "collapsed": false,
     "input": [],
     "language": "python",
     "metadata": {},
     "outputs": []
    }
   ],
   "metadata": {}
  }
 ]
}