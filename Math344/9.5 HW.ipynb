{
 "metadata": {
  "name": "9.5 HW"
 },
 "nbformat": 3,
 "nbformat_minor": 0,
 "worksheets": [
  {
   "cells": [
    {
     "cell_type": "code",
     "collapsed": false,
     "input": [
      "def An(r,n):\n",
      "    n = 1.\n",
      "    An = (n+r-1.)/((n+r)*(3.*n+3.*r-11.)+6.)\n",
      "    return An"
     ],
     "language": "python",
     "metadata": {},
     "outputs": [],
     "prompt_number": 4
    },
    {
     "cell_type": "code",
     "collapsed": false,
     "input": [
      "A0 = 1.\n",
      "def An(r,n):\n",
      "    if n == 0:\n",
      "        return A0\n",
      "    elif n == 1.:\n",
      "        return -1/6*A0\n",
      "    elif n > 1.:\n",
      "        return (n+r-1.)/((n+r)*(3.*n+3.*r-11.)+6.)\n",
      "print"
     ],
     "language": "python",
     "metadata": {},
     "outputs": []
    },
    {
     "cell_type": "markdown",
     "metadata": {},
     "source": [
      "For r = 2/3\n",
      "-"
     ]
    },
    {
     "cell_type": "code",
     "collapsed": false,
     "input": [
      "r = 3\n",
      "A1 = An(r, 1.)\n",
      "A2 = An(r, 2.)\n",
      "A3 = An(r, 3.)\n",
      "A4 = An(r, 4.)\n",
      "print A1, A2, A3, A4"
     ],
     "language": "python",
     "metadata": {},
     "outputs": [
      {
       "output_type": "stream",
       "stream": "stdout",
       "text": [
        "0.3 0.3 0.3 0.3\n"
       ]
      }
     ],
     "prompt_number": 22
    },
    {
     "cell_type": "code",
     "collapsed": false,
     "input": [
      "n = arange(1.,4.,1.)\n",
      "r = 3.\n",
      "for number in range(1,5,1):\n",
      "    print An(r,number)"
     ],
     "language": "python",
     "metadata": {},
     "outputs": [
      {
       "output_type": "stream",
       "stream": "stdout",
       "text": [
        "0.3\n",
        "0.3\n",
        "0.3\n",
        "0.3\n"
       ]
      }
     ],
     "prompt_number": 26
    },
    {
     "cell_type": "code",
     "collapsed": false,
     "input": [],
     "language": "python",
     "metadata": {},
     "outputs": []
    }
   ],
   "metadata": {}
  }
 ]
}