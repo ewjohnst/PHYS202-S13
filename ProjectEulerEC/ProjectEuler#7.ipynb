{
 "metadata": {
  "name": "ProjectEuler#7"
 },
 "nbformat": 3,
 "nbformat_minor": 0,
 "worksheets": [
  {
   "cells": [
    {
     "cell_type": "markdown",
     "metadata": {},
     "source": [
      "##By listing the first six prime numbers: 2, 3, 5, 7, 11, and 13, we can see that the 6th prime is 13.\n",
      "\n",
      "##What is the 10 001st prime number?\n"
     ]
    },
    {
     "cell_type": "code",
     "collapsed": false,
     "input": [
      "#I just did ProjectEuler#3 recently, and it looks like I can use\n",
      "#the same factoring function."
     ],
     "language": "python",
     "metadata": {},
     "outputs": [],
     "prompt_number": 3
    },
    {
     "cell_type": "code",
     "collapsed": false,
     "input": [
      "#we want to keep track of all the primes though and then find the 10,001\n",
      "#so lets make a list of all the prime factors\n",
      "\n",
      "def prime_factors(n): \n",
      "    prime_factors = []\n",
      "    \n",
      "    #this takes care of all factors of 2\n",
      "    while n % 2 == 0: #if n is even, this will get rid of all evens\n",
      "        prime_factors.append(prime)\n",
      "        n = n / 2 #rename n as n/2 so we can check again if its even\n",
      "        break\n",
      "    #moving on to 3 (and other odds) now\n",
      "    greatest_prime = 3\n",
      "    while n != 1:\n",
      "        while n % greatest_prime == 0: #as long as n is divisible by 3\n",
      "            prime_factors.append(greatest_prime)\n",
      "            n = n / greatest_prime #keep dividing by 3\n",
      "        greatest_prime += 2 #adding 2 because then all next largest\n",
      "                           #primes are odds (adding 1 will make evens\n",
      "                           #but we already took care of evens above)\n",
      "    return prime_factors"
     ],
     "language": "python",
     "metadata": {},
     "outputs": []
    },
    {
     "cell_type": "code",
     "collapsed": false,
     "input": [
      "prime_factors(2) # test 1"
     ],
     "language": "python",
     "metadata": {},
     "outputs": [
      {
       "output_type": "pyout",
       "prompt_number": 20,
       "text": [
        "[2]"
       ]
      }
     ],
     "prompt_number": 20
    },
    {
     "cell_type": "code",
     "collapsed": false,
     "input": [
      "prime_factors(5) #test 2"
     ],
     "language": "python",
     "metadata": {},
     "outputs": [
      {
       "output_type": "pyout",
       "prompt_number": 23,
       "text": [
        "[5]"
       ]
      }
     ],
     "prompt_number": 23
    },
    {
     "cell_type": "code",
     "collapsed": false,
     "input": [
      "prime_factors(9) #doesn't show 1 or 9... somethings wrong"
     ],
     "language": "python",
     "metadata": {},
     "outputs": [
      {
       "output_type": "pyout",
       "prompt_number": 24,
       "text": [
        "[3, 3]"
       ]
      }
     ],
     "prompt_number": 24
    },
    {
     "cell_type": "code",
     "collapsed": false,
     "input": [
      "prime_factors(10)"
     ],
     "language": "python",
     "metadata": {},
     "outputs": [
      {
       "output_type": "pyout",
       "prompt_number": 28,
       "text": [
        "[2, 5]"
       ]
      }
     ],
     "prompt_number": 28
    },
    {
     "cell_type": "code",
     "collapsed": false,
     "input": [
      "def mth_prime(n):\n",
      "    first = 2 # previous prime\n",
      "    second = 3 # next number to check\n",
      "    count = 1 # number of primes\n",
      "    while count < n:\n",
      "        if len(prime_factors(second)) == 1:\n",
      "            prime = second\n",
      "            count += 1\n",
      "        second += 2 # only check odd numbers because evens are\n",
      "                    # taken care of in prime_factors\n",
      "    return prime\n",
      " "
     ],
     "language": "python",
     "metadata": {},
     "outputs": [],
     "prompt_number": 33
    },
    {
     "cell_type": "code",
     "collapsed": false,
     "input": [
      "mth_prime(6) #test 1"
     ],
     "language": "python",
     "metadata": {},
     "outputs": [
      {
       "output_type": "pyout",
       "prompt_number": 40,
       "text": [
        "13"
       ]
      }
     ],
     "prompt_number": 40
    },
    {
     "cell_type": "code",
     "collapsed": false,
     "input": [
      "mth_prime(4) #test 2"
     ],
     "language": "python",
     "metadata": {},
     "outputs": [
      {
       "output_type": "pyout",
       "prompt_number": 41,
       "text": [
        "7"
       ]
      }
     ],
     "prompt_number": 41
    },
    {
     "cell_type": "code",
     "collapsed": false,
     "input": [
      "mth_prime(5) #test 3"
     ],
     "language": "python",
     "metadata": {},
     "outputs": [
      {
       "output_type": "pyout",
       "prompt_number": 42,
       "text": [
        "11"
       ]
      }
     ],
     "prompt_number": 42
    },
    {
     "cell_type": "code",
     "collapsed": false,
     "input": [
      "mth_prime(10001)"
     ],
     "language": "python",
     "metadata": {},
     "outputs": [
      {
       "output_type": "pyout",
       "prompt_number": 43,
       "text": [
        "104743"
       ]
      }
     ],
     "prompt_number": 43
    },
    {
     "cell_type": "markdown",
     "metadata": {},
     "source": [
      "So the 10001 prime number is 104743!\n",
      "-\n",
      "I had issues doing the factors list for smaller numbers, which worries me, but I checked the output I got for cell 43 and ProjectEuler.net says its correct. So I guess I'll just have to be happy with that for now."
     ]
    },
    {
     "cell_type": "code",
     "collapsed": false,
     "input": [],
     "language": "python",
     "metadata": {},
     "outputs": []
    }
   ],
   "metadata": {}
  }
 ]
}