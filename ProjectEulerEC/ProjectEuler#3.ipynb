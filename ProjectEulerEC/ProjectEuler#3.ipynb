{
 "metadata": {
  "name": "ProjectEuler#3"
 },
 "nbformat": 3,
 "nbformat_minor": 0,
 "worksheets": [
  {
   "cells": [
    {
     "cell_type": "markdown",
     "metadata": {},
     "source": [
      "###The prime factors of 13195 are 5, 7, 13 and 29.\n",
      "\n",
      "###What is the largest prime factor of the number 600851475143 ?"
     ]
    },
    {
     "cell_type": "code",
     "collapsed": false,
     "input": [
      "a = 5\n",
      "b = 7\n",
      "c = 13\n",
      "d = 29\n",
      "\n",
      "F = a*b*c*d\n",
      "print F"
     ],
     "language": "python",
     "metadata": {},
     "outputs": [
      {
       "output_type": "stream",
       "stream": "stdout",
       "text": [
        "13195\n"
       ]
      }
     ],
     "prompt_number": 2
    },
    {
     "cell_type": "markdown",
     "metadata": {},
     "source": [
      "Jotting down thoughts\n",
      "All numbers have 1 as a prime factor.\n",
      "All evens have 2 as a prime factor, and all evens can be reduced by 2.\n",
      "All numbers larger than two that are odds cannot be reduced by two, but those that can be don't need other evens in them."
     ]
    },
    {
     "cell_type": "code",
     "collapsed": false,
     "input": [
      "def greatest_prime_factor(n): \n",
      "    #we'll start with the greatest factor being 1, move to 2, 3, etc\n",
      "    greatest_prime = 1 #start out with the largest factor of n being 1\n",
      "    while n % 2 == 0: #if n is even, this will get rid of all evens\n",
      "        greatest_prime = 2 #its largest prime factor is 2\n",
      "        n = n / 2 #rename n as n/2 so we can check again if its even\n",
      "    #moving on to 3 (and other odds) now\n",
      "    greatest_prime = 3\n",
      "    while n != 1:\n",
      "        while n % greatest_prime == 0: #as long as n is divisible by 3\n",
      "            n = n / greatest_prime #keep dividing by 3\n",
      "        greatest_prime += 2 #adding 2 because then all next largest\n",
      "                           #primes are odds (adding 1 will make evens\n",
      "                           #but we already took care of evens above)\n",
      "    return greatest_prime - 2 #b/c it adds 2 to last greatest prime\n",
      "    \n",
      "    "
     ],
     "language": "python",
     "metadata": {},
     "outputs": [],
     "prompt_number": 12
    },
    {
     "cell_type": "code",
     "collapsed": false,
     "input": [
      "greatest_prime_factor(13195) #test case 1"
     ],
     "language": "python",
     "metadata": {},
     "outputs": [
      {
       "output_type": "pyout",
       "prompt_number": 11,
       "text": [
        "29"
       ]
      }
     ],
     "prompt_number": 11
    },
    {
     "cell_type": "code",
     "collapsed": false,
     "input": [
      "greatest_prime_factor(8) #has trouble with small numbers\n",
      "#it should have just cranked out 2 quickly, the one above was fast"
     ],
     "language": "python",
     "metadata": {},
     "outputs": [
      {
       "ename": "KeyboardInterrupt",
       "evalue": "",
       "output_type": "pyerr",
       "traceback": [
        "\u001b[1;31m---------------------------------------------------------------------------\u001b[0m\n\u001b[1;31mKeyboardInterrupt\u001b[0m                         Traceback (most recent call last)",
        "\u001b[1;32m<ipython-input-13-200585e50788>\u001b[0m in \u001b[0;36m<module>\u001b[1;34m()\u001b[0m\n\u001b[1;32m----> 1\u001b[1;33m \u001b[0mgreatest_prime_factor\u001b[0m\u001b[1;33m(\u001b[0m\u001b[1;36m8\u001b[0m\u001b[1;33m)\u001b[0m \u001b[1;31m#has trouble with small numbers\u001b[0m\u001b[1;33m\u001b[0m\u001b[0m\n\u001b[0m\u001b[0;32m      2\u001b[0m \u001b[1;31m#it should have just cranked out 2 quickly, the one above was fast\u001b[0m\u001b[1;33m\u001b[0m\u001b[1;33m\u001b[0m\u001b[0m\n",
        "\u001b[1;32m<ipython-input-12-de277d4644a6>\u001b[0m in \u001b[0;36mgreatest_prime_factor\u001b[1;34m(n)\u001b[0m\n\u001b[0;32m     10\u001b[0m     \u001b[1;32mwhile\u001b[0m \u001b[0mn\u001b[0m \u001b[1;33m!=\u001b[0m \u001b[1;36m1\u001b[0m\u001b[1;33m:\u001b[0m\u001b[1;33m\u001b[0m\u001b[0m\n\u001b[0;32m     11\u001b[0m         \u001b[1;32mwhile\u001b[0m \u001b[0mn\u001b[0m \u001b[1;33m%\u001b[0m \u001b[0mgreatest_prime\u001b[0m \u001b[1;33m==\u001b[0m \u001b[1;36m0\u001b[0m\u001b[1;33m:\u001b[0m \u001b[1;31m#as long as n is divisible by 3\u001b[0m\u001b[1;33m\u001b[0m\u001b[0m\n\u001b[1;32m---> 12\u001b[1;33m             \u001b[0mn\u001b[0m \u001b[1;33m=\u001b[0m \u001b[0mn\u001b[0m \u001b[1;33m/\u001b[0m \u001b[0mgreatest_prime\u001b[0m \u001b[1;31m#keep dividing by 3\u001b[0m\u001b[1;33m\u001b[0m\u001b[0m\n\u001b[0m\u001b[0;32m     13\u001b[0m         \u001b[0mgreatest_prime\u001b[0m \u001b[1;33m+=\u001b[0m \u001b[1;36m2\u001b[0m \u001b[1;31m#adding 2 because then all next largest\u001b[0m\u001b[1;33m\u001b[0m\u001b[0m\n\u001b[0;32m     14\u001b[0m                            \u001b[1;31m#primes are odds (adding 1 will make evens\u001b[0m\u001b[1;33m\u001b[0m\u001b[1;33m\u001b[0m\u001b[0m\n",
        "\u001b[1;31mKeyboardInterrupt\u001b[0m: "
       ]
      }
     ],
     "prompt_number": 13
    },
    {
     "cell_type": "code",
     "collapsed": false,
     "input": [
      "greatest_prime_factor(9) #also has trouble with this, should be 3"
     ],
     "language": "python",
     "metadata": {},
     "outputs": []
    },
    {
     "cell_type": "markdown",
     "metadata": {},
     "source": [
      "###My second and third test cases never worked after running for a minute or so, but my first did and came out correct, so I'll just go onto answering the problem and check my final solution on ProjectEuler.net.\n"
     ]
    },
    {
     "cell_type": "code",
     "collapsed": false,
     "input": [
      "greatest_prime_factor(600851475143) #answered this super quickly"
     ],
     "language": "python",
     "metadata": {},
     "outputs": [
      {
       "output_type": "pyout",
       "prompt_number": 14,
       "text": [
        "6857"
       ]
      }
     ],
     "prompt_number": 14
    },
    {
     "cell_type": "markdown",
     "metadata": {},
     "source": [
      "The largest prime factor is 6857 (I checked on ProjectEuler.net)!\n",
      "-"
     ]
    },
    {
     "cell_type": "code",
     "collapsed": false,
     "input": [],
     "language": "python",
     "metadata": {},
     "outputs": []
    }
   ],
   "metadata": {}
  }
 ]
}