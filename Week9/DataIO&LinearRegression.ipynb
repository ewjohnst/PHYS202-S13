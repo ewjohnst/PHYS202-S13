{
 "metadata": {
  "name": "DataIO&LinearRegression"
 },
 "nbformat": 3,
 "nbformat_minor": 0,
 "worksheets": [
  {
   "cells": [
    {
     "cell_type": "markdown",
     "metadata": {},
     "source": [
      "Data I/O\n",
      "="
     ]
    },
    {
     "cell_type": "code",
     "collapsed": false,
     "input": [
      "DataIn = loadtxt('input.dat.txt') #your computer secretly adds .txt\n",
      "print DataIn.shape #to the end of the names of files!\n",
      "print DataIn #if you put .txt or .dat at end just use that at end"
     ],
     "language": "python",
     "metadata": {},
     "outputs": [
      {
       "output_type": "stream",
       "stream": "stdout",
       "text": [
        "(5L, 3L)\n",
        "[[ 0.   1.1  0.1]\n",
        " [ 2.   1.9  0.2]\n",
        " [ 4.   3.2  0.1]\n",
        " [ 6.   4.   0.3]\n",
        " [ 8.   5.9  0.3]]\n"
       ]
      }
     ],
     "prompt_number": 1
    },
    {
     "cell_type": "code",
     "collapsed": false,
     "input": [
      "print DataIn[:,2]"
     ],
     "language": "python",
     "metadata": {},
     "outputs": [
      {
       "output_type": "stream",
       "stream": "stdout",
       "text": [
        "[ 0.1  0.2  0.1  0.3  0.3]\n"
       ]
      }
     ],
     "prompt_number": 2
    },
    {
     "cell_type": "code",
     "collapsed": false,
     "input": [
      "#unpack=True  will separate each of the 3 arrays\n",
      "x, y, yerr = loadtxt('input.dat.txt', unpack=True)\n",
      "print x\n",
      "print y\n",
      "print yerr"
     ],
     "language": "python",
     "metadata": {},
     "outputs": [
      {
       "output_type": "stream",
       "stream": "stdout",
       "text": [
        "[ 0.  2.  4.  6.  8.]\n",
        "[ 1.1  1.9  3.2  4.   5.9]\n",
        "[ 0.1  0.2  0.1  0.3  0.3]\n"
       ]
      }
     ],
     "prompt_number": 3
    },
    {
     "cell_type": "code",
     "collapsed": false,
     "input": [
      "x, y = loadtxt('input.dat.txt', unpack=True, usecols=[0,1])\n",
      "print x\n",
      "print y"
     ],
     "language": "python",
     "metadata": {},
     "outputs": [
      {
       "output_type": "stream",
       "stream": "stdout",
       "text": [
        "[ 0.  2.  4.  6.  8.]\n",
        "[ 1.1  1.9  3.2  4.   5.9]\n"
       ]
      }
     ],
     "prompt_number": 4
    },
    {
     "cell_type": "markdown",
     "metadata": {},
     "source": [
      "Dealing with csv (comma-seperated-values) files.\n",
      "-"
     ]
    },
    {
     "cell_type": "code",
     "collapsed": false,
     "input": [
      "x,y = loadtxt('input.csv', delimiter=',', unpack=True,\n",
      "usecols=[0,1]) #I get the right answer when I use just x and \n",
      "print x,y #usecols=[0]?"
     ],
     "language": "python",
     "metadata": {},
     "outputs": [
      {
       "output_type": "stream",
       "stream": "stdout",
       "text": [
        "[ 0.  2.  4.  6.  8.] [ 1.1  1.9  3.2  4.   5.9]\n"
       ]
      }
     ],
     "prompt_number": 5
    },
    {
     "cell_type": "markdown",
     "metadata": {},
     "source": [
      "Writing data to a file.\n",
      "-"
     ]
    },
    {
     "cell_type": "code",
     "collapsed": false,
     "input": [
      "t = array([0, 1, 2, 3, 4, 5, 6, 7, 8, 9])\n",
      "v = array([0.137, 0.456, 0.591, 0.713, 0.859,\n",
      " 0.926, 1.139, 1.327, 1.512, 1.875])\n",
      "p = 0.15 + v/10.0\n",
      "print p #pressure array from voltage array"
     ],
     "language": "python",
     "metadata": {},
     "outputs": [
      {
       "output_type": "stream",
       "stream": "stdout",
       "text": [
        "[ 0.1637  0.1956  0.2091  0.2213  0.2359  0.2426  0.2639  0.2827  0.3012\n",
        "  0.3375]\n"
       ]
      }
     ],
     "prompt_number": 6
    },
    {
     "cell_type": "code",
     "collapsed": false,
     "input": [
      "savetxt('output.dat', (t,p))"
     ],
     "language": "python",
     "metadata": {},
     "outputs": [],
     "prompt_number": 7
    },
    {
     "cell_type": "code",
     "collapsed": false,
     "input": [
      "DataOut = column_stack((t,p))\n",
      "savetxt('output.dat', DataOut, fmt=('%7.4f'))"
     ],
     "language": "python",
     "metadata": {},
     "outputs": [],
     "prompt_number": 8
    },
    {
     "cell_type": "code",
     "collapsed": false,
     "input": [
      "#savetxt('output.dat', DataOut, fmt('%(width).(precision)(specifier))\n",
      "\n",
      "#Specifier    Meaning         Example Format    Output for -34.5678\n",
      "#    i       signed integer       %5i                 -34\n",
      "#    e     scientific notation    %5.4e             -3.4568+001\n",
      "#    f      floating point        %5.2f               -34.57"
     ],
     "language": "python",
     "metadata": {},
     "outputs": [],
     "prompt_number": 9
    },
    {
     "cell_type": "code",
     "collapsed": false,
     "input": [
      "#to do a specific format for each column, do\n",
      "#savetxt('output.dat', Dataout, fmt(\"%3i\", \"%4.3f\")"
     ],
     "language": "python",
     "metadata": {},
     "outputs": [],
     "prompt_number": 10
    },
    {
     "cell_type": "code",
     "collapsed": false,
     "input": [
      "f = open(\"output.dat\", \"w\")\n",
      "f.write(\"#My comment line for this file, followed by a blank line, then the data\\n\\n\")\n",
      "savetxt(f, DataOut, fmt=(\"%3i\", \"%4.3f\"))\n",
      "f.close()"
     ],
     "language": "python",
     "metadata": {},
     "outputs": [],
     "prompt_number": 11
    },
    {
     "cell_type": "code",
     "collapsed": false,
     "input": [
      "DataOut = loadtxt(\"output.dat\")"
     ],
     "language": "python",
     "metadata": {},
     "outputs": [],
     "prompt_number": 12
    },
    {
     "cell_type": "code",
     "collapsed": false,
     "input": [
      "DataOut"
     ],
     "language": "python",
     "metadata": {},
     "outputs": [
      {
       "output_type": "pyout",
       "prompt_number": 13,
       "text": [
        "array([[ 0.   ,  0.164],\n",
        "       [ 1.   ,  0.196],\n",
        "       [ 2.   ,  0.209],\n",
        "       [ 3.   ,  0.221],\n",
        "       [ 4.   ,  0.236],\n",
        "       [ 5.   ,  0.243],\n",
        "       [ 6.   ,  0.264],\n",
        "       [ 7.   ,  0.283],\n",
        "       [ 8.   ,  0.301],\n",
        "       [ 9.   ,  0.338]])"
       ]
      }
     ],
     "prompt_number": 13
    },
    {
     "cell_type": "markdown",
     "metadata": {},
     "source": [
      "Exercise 1.\n",
      "-\n",
      "###Write the following data to two output files: one called linearData.dat with the columns seperated by spaces and one called linearData.csv with the columns seperated by commas. Include a comment at the top of the file that describes the contents of the file!"
     ]
    },
    {
     "cell_type": "code",
     "collapsed": false,
     "input": [
      "Time = array([1, 2, 3, 4, 5, 6, 7, 8, 9, 10])\n",
      "Pos = array([7.75, 7.33, 6.89, 6.45, 5.96,\n",
      "                   5.55, 5.10, 4.49, 3.93, 3.58])\n",
      "Uncert_of_Pos = array([0.02, 0.03, 0.03, 0.04, 0.05,\n",
      "                       0.06, 0.08, 0.11, 0.14, 0.17])"
     ],
     "language": "python",
     "metadata": {},
     "outputs": [],
     "prompt_number": 14
    },
    {
     "cell_type": "code",
     "collapsed": false,
     "input": [
      "print Time\n",
      "print Pos\n",
      "print Uncert_of_Pos"
     ],
     "language": "python",
     "metadata": {},
     "outputs": [
      {
       "output_type": "stream",
       "stream": "stdout",
       "text": [
        "[ 1  2  3  4  5  6  7  8  9 10]\n",
        "[ 7.75  7.33  6.89  6.45  5.96  5.55  5.1   4.49  3.93  3.58]\n",
        "[ 0.02  0.03  0.03  0.04  0.05  0.06  0.08  0.11  0.14  0.17]\n"
       ]
      }
     ],
     "prompt_number": 15
    },
    {
     "cell_type": "code",
     "collapsed": false,
     "input": [
      "linearData = column_stack((Time, Pos, Uncert_of_Pos))\n",
      "savetxt('linearData.dat', linearData, fmt=('%7.4f'))\n",
      "\n",
      "f = open(\"linearData.dat\", \"w\")\n",
      "f.write(\"#This is my DAT file of Time, Positions, and Uncertainty of Position\\n\\n\")\n",
      "savetxt(f, linearData, fmt=(\"%7.4f\"))\n",
      "f.close()\n",
      "\n"
     ],
     "language": "python",
     "metadata": {},
     "outputs": [],
     "prompt_number": 16
    },
    {
     "cell_type": "code",
     "collapsed": false,
     "input": [
      "linearData = column_stack((Time, Pos, Uncert_of_Pos))\n",
      "savetxt('linearData.csv', linearData, fmt=('%7.4f'))\n",
      "\n",
      "f = open(\"linearData.csv\", \"w\")\n",
      "f.write(\"#This is my csv file of Time, Positions, and Uncertainty of Position\\n\\n\")\n",
      "savetxt(f, linearData, delimiter=',', fmt=(\"%7.4f\"))\n",
      "f.close()"
     ],
     "language": "python",
     "metadata": {},
     "outputs": [],
     "prompt_number": 17
    },
    {
     "cell_type": "markdown",
     "metadata": {},
     "source": [
      "###I opened my Week9 folder and both files seem to be there and good!"
     ]
    },
    {
     "cell_type": "markdown",
     "metadata": {},
     "source": [
      "Linear Regression\n",
      "="
     ]
    },
    {
     "cell_type": "markdown",
     "metadata": {},
     "source": [
      "Exercise 2.\n",
      "-\n",
      "###A. Write a function that takes as arguments arrays representing the x,y values for some linearly varying data and returns a tuple of the resulting slope, intercept, and uncertainties."
     ]
    },
    {
     "cell_type": "code",
     "collapsed": false,
     "input": [
      "def LinearLeastSquaresFit(x,y):\n",
      "    \"\"\"Take in arrays representing (x,y) values for a set of linearly varying data\n",
      "    and perform a linear least squares regression. Returns the resulting slope and\n",
      "    intercept parameters of the best fit line with their uncertainties.\"\"\"\n",
      "    \n",
      "    Xavg = sum(x)/len(x)\n",
      "    Yavg = sum(y)/len(y)\n",
      "    XsquarAvg = sum(x**2)/len(x**2)\n",
      "    XYavg = sum(x*y)/len(x*y)\n",
      "    \n",
      "    bottom = ((len(x)-2)*(XsquarAvg - Xavg**2))\n",
      "    slope = (XYavg - (Xavg*Yavg))/(XsquarAvg - (Xavg**2))\n",
      "    intercept = ((XsquarAvg*Yavg)-(Xavg*XYavg))/(XsquarAvg - Xavg**2)\n",
      "    slerr = sqrt(((sum((y-(slope*x + intercept))**2))/len(x))/bottom)\n",
      "    interror = sqrt(((sum(  (y - (slope*x + intercept))**2))/len(x))*(XsquarAvg)/((len(x)-2)*(XsquarAvg - Xavg**2)))\n",
      "    \n",
      "    return slope, intercept, slerr, interror\n"
     ],
     "language": "python",
     "metadata": {},
     "outputs": [],
     "prompt_number": 18
    },
    {
     "cell_type": "markdown",
     "metadata": {},
     "source": [
      "###B. Read in just the first two columns of data from one of the linearData files you created in Ex1 above and fit it with your LinearLeastSquaresFit function. Print the results of the fit, both the fitted parameter values and their uncertainties. If you do it right you will get slope = -0.4715 +- 0.0080 and intercept = 8.2960+- 0.0496."
     ]
    },
    {
     "cell_type": "code",
     "collapsed": false,
     "input": [
      "x, y = loadtxt(\"linearData.dat\", unpack=True, usecols=[0,1])\n",
      "print x\n",
      "print y"
     ],
     "language": "python",
     "metadata": {},
     "outputs": [
      {
       "output_type": "stream",
       "stream": "stdout",
       "text": [
        "[  1.   2.   3.   4.   5.   6.   7.   8.   9.  10.]\n",
        "[ 7.75  7.33  6.89  6.45  5.96  5.55  5.1   4.49  3.93  3.58]\n"
       ]
      }
     ],
     "prompt_number": 19
    },
    {
     "cell_type": "code",
     "collapsed": false,
     "input": [
      "LinearLeastSquaresFit(x,y)"
     ],
     "language": "python",
     "metadata": {},
     "outputs": [
      {
       "output_type": "pyout",
       "prompt_number": 20,
       "text": [
        "(-0.47145454545454524,\n",
        " 8.2960000000000012,\n",
        " 0.0079948330421529545,\n",
        " 0.049606634453651217)"
       ]
      }
     ],
     "prompt_number": 20
    },
    {
     "cell_type": "markdown",
     "metadata": {},
     "source": [
      "###C. Now make a publication-quality plot that shows the (x,y) data with markers and 3 lines that represent the results of the fit: A solid line for y = mx + b, dotted lines representing 1 standard deviation range of possible solutions $y_+ = (m+\\sigma_m)x + (b+\\sigma_b)$  and $y_- = (m-\\sigma_m)x + (b-\\sigma_b$.  Include a legend that shows the fitted line equation with the fit parammeters. to do this, use the python text replacement syntax, e.g: \n",
      "linelabel = \"y = %.4f x + %.4f\" % (slope, intercept)"
     ]
    },
    {
     "cell_type": "code",
     "collapsed": false,
     "input": [
      "slope = -0.47145454545454524\n",
      "intercept = 8.2960000000000012\n",
      "slerr = 0.0079948330421529545\n",
      "interror = 0.049606634453651217\n",
      "yplus = (slope - slerr)*x + (intercept + interror)\n",
      "yminus = (slope - slerr)*x + (intercept - interror)"
     ],
     "language": "python",
     "metadata": {},
     "outputs": [],
     "prompt_number": 21
    },
    {
     "cell_type": "code",
     "collapsed": false,
     "input": [
      "figure(figsize=(10,8))\n",
      "plot(x, y, label=(\"original data\"), color=\"red\", lw=1)\n",
      "plot(x, yplus, ls='--', label=(\"y = %.4f x + %.4f\" % (slope+slerr, intercept+interror)), color=\"blue\") \n",
      "plot(x, yminus, ls = '--', label=(\"y = %.4f x + %.4f\" % (slope-slerr, intercept-interror)), color=\"green\")\n",
      "legend(loc='best')\n",
      "xlabel('Time(s)', fontsize=14)\n",
      "ylabel('Position(m)', fontsize=14)\n",
      "title(\"Linear Regression Plot\", fontsize=18)\n",
      "show()"
     ],
     "language": "python",
     "metadata": {},
     "outputs": [
      {
       "output_type": "display_data",
       "png": "[encoded data removed]"
      }
     ],
     "prompt_number": 84
    },
    {
     "cell_type": "markdown",
     "metadata": {},
     "source": [
      "Weighted Linear Least Squares\n",
      "="
     ]
    },
    {
     "cell_type": "markdown",
     "metadata": {},
     "source": [
      "Exercise 3.\n",
      "-\n",
      "###A. Write another function that can compute the weighted linear least squares(WLSQ) best fit line to a set of data. "
     ]
    },
    {
     "cell_type": "code",
     "collapsed": false,
     "input": [
      "def WeightedLinearLeastSquaresFit(x,y,weight):\n",
      "    \"\"\"Take in arrays representing (x,y) values for a set of linearly varying data and an array\n",
      "    of weights w. Performs a weighted linear least squares regression. Return the resulting\n",
      "    slope and intercept parameters of the best fit line with their uncertainties.\n",
      "    If the weights are all equal to one, the uncertainties are calculated using the \n",
      "    LinearLeastSquaresFit function defined above.\"\"\"\n",
      "    if sum(weight)/len(weight)==1:\n",
      "        return LinearLeastSquaresFit(x,y)\n",
      "    else:\n",
      "        w = sum(weight)\n",
      "        wxy = sum(w*x*y)\n",
      "        wx = sum(w*x)\n",
      "        wy = sum(w*y)\n",
      "        wxsquared = sum(w*(x**2))\n",
      "    \n",
      "        slope = ((w*wxy)-(wx*wy))/((w*wxsquared) - (wx**2))\n",
      "        intercept = ((wxsquared*wy)-(wx*wxy))/(w*wxsquared - (wx**2))\n",
      "        slerr = sqrt((w)/((w*wxsquared) - (wx**2)))\n",
      "        interror = sqrt((wxsquared)/(w*wxsquared - (wx**2)))\n",
      "        \n",
      "    return slope, slerr, intercept, interror"
     ],
     "language": "python",
     "metadata": {},
     "outputs": [],
     "prompt_number": 57
    },
    {
     "cell_type": "markdown",
     "metadata": {},
     "source": [
      "###B. read in all three columns of data you wrote out in Execise 1. this time use the uncertainties on the y values (the third column in the file) as weights to perform the WLSQ best fit. Print the results of the fit, both the fitted parameter values and their uncertainties. If you did it correctly you will get slope=-0.451 +- 0.0066 and intercept = 8.2201 +- 0.0214. "
     ]
    },
    {
     "cell_type": "code",
     "collapsed": false,
     "input": [
      "time2, position2, uncert2 = loadtxt(\"linearData.dat\", unpack=True, usecols=[0,1,2])\n",
      "print time2\n",
      "print position2\n",
      "print uncert2\n",
      "weight = 1/(uncert2**2)"
     ],
     "language": "python",
     "metadata": {},
     "outputs": [
      {
       "output_type": "stream",
       "stream": "stdout",
       "text": [
        "[  1.   2.   3.   4.   5.   6.   7.   8.   9.  10.]\n",
        "[ 7.75  7.33  6.89  6.45  5.96  5.55  5.1   4.49  3.93  3.58]\n",
        "[ 0.02  0.03  0.03  0.04  0.05  0.06  0.08  0.11  0.14  0.17]\n"
       ]
      }
     ],
     "prompt_number": 58
    },
    {
     "cell_type": "code",
     "collapsed": false,
     "input": [
      "weight #making sure no values are 1"
     ],
     "language": "python",
     "metadata": {},
     "outputs": [
      {
       "output_type": "pyout",
       "prompt_number": 59,
       "text": [
        "array([ 2500.        ,  1111.11111111,  1111.11111111,   625.        ,\n",
        "         400.        ,   277.77777778,   156.25      ,    82.6446281 ,\n",
        "          51.02040816,    34.60207612])"
       ]
      }
     ],
     "prompt_number": 59
    },
    {
     "cell_type": "code",
     "collapsed": false,
     "input": [
      "WeightedLinearLeastSquaresFit(time2,position2,weight)"
     ],
     "language": "python",
     "metadata": {},
     "outputs": [
      {
       "output_type": "pyout",
       "prompt_number": 56,
       "text": [
        "(-0.45102398348675593,\n",
        " 0.0065758708587924392,\n",
        " 8.220071817895505,\n",
        " 0.021437765208320705)"
       ]
      }
     ],
     "prompt_number": 56
    },
    {
     "cell_type": "markdown",
     "metadata": {},
     "source": [
      "###C. Now make an errorbar plot that shows the (x,y) data with the markers and error bars $\\sigma_y$. Also plot lines representing the results from the LSQ and WSLQ fits to these data. Include a legend that shows the fitted line equations with the fit parameters as you did in exercise 2c with labels indicating which ones is the weighted result and which is unweighted."
     ]
    },
    {
     "cell_type": "code",
     "collapsed": false,
     "input": [
      "figure(figsize=(10,8))\n",
      "slopeW = -0.4510\n",
      "slerrW = 0.0066\n",
      "interceptW = 8.2201\n",
      "interrorW = 0.0214\n",
      "domain = arange(1.,10.01,.01)\n",
      "line = slopeW * domain + interceptW\n",
      "errorbar(time2, position2, uncert2, fmt='*',ms=3, label='Original data')\n",
      "plot(domain, line, color='red', ls = '--', label=(\"WSLQ = %.4f x + %.4f\" % (slerrW, interrorW)))\n",
      "plot(time2, y, ls = '--', color='green', label=(\"LSQ = %.4f x + %.4f\" % (slope, intercept)))\n",
      "legend(loc='best')\n",
      "xlabel('Time(s)', fontsize=14)\n",
      "ylabel('Position(m)', fontsize=14)\n",
      "title(\"Weighted and Non-Weighted Linear Regression\", fontsize=18)\n",
      "show()"
     ],
     "language": "python",
     "metadata": {},
     "outputs": [
      {
       "output_type": "display_data",
       "png": "[encoded data removed]"
      }
     ],
     "prompt_number": 85
    },
    {
     "cell_type": "code",
     "collapsed": false,
     "input": [],
     "language": "python",
     "metadata": {},
     "outputs": []
    }
   ],
   "metadata": {}
  }
 ]
}