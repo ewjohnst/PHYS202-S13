{
 "metadata": {
  "name": "ProjectEuler#19"
 },
 "nbformat": 3,
 "nbformat_minor": 0,
 "worksheets": [
  {
   "cells": [
    {
     "cell_type": "markdown",
     "metadata": {},
     "source": [
      "You are given the following information, but you may prefer to do some research for yourself.\n",
      "\u20221 Jan 1900 was a Monday.\n",
      "\u2022Thirty days has September,\n",
      " April, June and November.\n",
      " All the rest have thirty-one,\n",
      " Saving February alone,\n",
      " Which has twenty-eight, rain or shine.\n",
      " And on leap years, twenty-nine.\n",
      "\u2022A leap year occurs on any year evenly divisible by 4, but not on a century unless it is divisible by 400.\n",
      "\n",
      "How many Sundays fell on the first of the month during the twentieth century (1 Jan 1901 to 31 Dec 2000)?\n"
     ]
    },
    {
     "cell_type": "code",
     "collapsed": false,
     "input": [
      "L = array([1,2,3,4,5,6,7])\n",
      "index = 0\n",
      "sunday_counter = 0\n",
      "leap_year = 0\n",
      "for k in range(0,365):\n",
      "    index += 1\n",
      "    if index > 6:\n",
      "        index = 0\n",
      "\n",
      "    \n",
      "\n",
      "for i in range(1901,2001):     #outer for loop, sets range of years. If the year is divisible by 4 its a leap year\n",
      "    if i%4 == 0:               # and has an extra day\n",
      "      n = 366   \n",
      "      leap_year = 1\n",
      "    else:\n",
      "        n = 365\n",
      "        leap_year = 0\n",
      "    for j in range(0,n):       # for each day in our year (who's length can vary)\n",
      "        if j == 0 and index == 6:      #january\n",
      "            sunday_counter += 1\n",
      "        elif j == 31 and index == 6:     #february\n",
      "            sunday_counter += 1\n",
      "        elif j == 59 + leap_year and index == 6:      #march\n",
      "            sunday_counter += 1\n",
      "        elif j == 90 + leap_year and index == 6:      #april\n",
      "            sunday_counter += 1\n",
      "        elif j == 120 + leap_year and index == 6:      #may\n",
      "            sunday_counter += 1\n",
      "        elif j == 151 + leap_year and index == 6:      #june\n",
      "            sunday_counter += 1\n",
      "        elif j == 181 + leap_year and index == 6:      #july\n",
      "            sunday_counter += 1\n",
      "        elif j == 212 + leap_year and index == 6:      #august\n",
      "            sunday_counter += 1\n",
      "        elif j == 243 + leap_year and index == 6:      #september\n",
      "            sunday_counter += 1\n",
      "        elif j == 273 + leap_year and index == 6:      #october\n",
      "            sunday_counter += 1\n",
      "        elif j == 304 + leap_year and index == 6:      #november\n",
      "            sunday_counter += 1\n",
      "        elif j == 334 + leap_year and index == 6:      #december\n",
      "            sunday_counter += 1            \n",
      "        index += 1\n",
      "        if index > 6\n",
      "            index = 0\n",
      "            \n",
      "print sunday_counter\n",
      "            \n",
      "            \n",
      "    \n",
      "    "
     ],
     "language": "python",
     "metadata": {},
     "outputs": [
      {
       "output_type": "stream",
       "stream": "stdout",
       "text": [
        "171\n"
       ]
      }
     ],
     "prompt_number": 9
    },
    {
     "cell_type": "code",
     "collapsed": false,
     "input": [],
     "language": "python",
     "metadata": {},
     "outputs": []
    }
   ],
   "metadata": {}
  }
 ]
}