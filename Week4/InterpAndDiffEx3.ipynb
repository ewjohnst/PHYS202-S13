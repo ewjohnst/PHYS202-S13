{
 "metadata": {
  "name": "InterpAndDiffEx3"
 },
 "nbformat": 3,
 "nbformat_minor": 0,
 "worksheets": [
  {
   "cells": [
    {
     "cell_type": "markdown",
     "metadata": {},
     "source": [
      "1.\n",
      "="
     ]
    },
    {
     "cell_type": "code",
     "collapsed": false,
     "input": [
      "from newEl import *\n",
      "x,y = meshgrid(arange(-5,5,0.5),arange(-5,5,0.5))\n",
      "Vdipole = dipolePotential(x,y,1e-9,2.);\n",
      "contour(x,y,Vdipole,cmap=cm.coolwarm)\n",
      "xlabel('x(m)', fontsize = 14)\n",
      "ylabel('y(m)', fontsize = 14)\n",
      "title('Dipole Potential', fontsize=16)\n",
      "show()"
     ],
     "language": "python",
     "metadata": {},
     "outputs": [
      {
       "output_type": "stream",
       "stream": "stderr",
       "text": [
        "newEl.py:14: RuntimeWarning: divide by zero encountered in divide\n",
        "  Vdipole = (k*q/np.sqrt(y**2+(x-(d/2))**2)) - (k*q/np.sqrt(y**2+(x+(d/2))**2))\n"
       ]
      },
      {
       "output_type": "display_data",
       "png": "[encoded data removed]"
      }
     ],
     "prompt_number": 1
    },
    {
     "cell_type": "markdown",
     "metadata": {},
     "source": [
      "A.\n",
      "-"
     ]
    },
    {
     "cell_type": "code",
     "collapsed": false,
     "input": [
      "mask = (y==0)\n",
      "print mask"
     ],
     "language": "python",
     "metadata": {},
     "outputs": [
      {
       "output_type": "stream",
       "stream": "stdout",
       "text": [
        "[[False False False False False False False False False False False False\n",
        "  False False False False False False False False]\n",
        " [False False False False False False False False False False False False\n",
        "  False False False False False False False False]\n",
        " [False False False False False False False False False False False False\n",
        "  False False False False False False False False]\n",
        " [False False False False False False False False False False False False\n",
        "  False False False False False False False False]\n",
        " [False False False False False False False False False False False False\n",
        "  False False False False False False False False]\n",
        " [False False False False False False False False False False False False\n",
        "  False False False False False False False False]\n",
        " [False False False False False False False False False False False False\n",
        "  False False False False False False False False]\n",
        " [False False False False False False False False False False False False\n",
        "  False False False False False False False False]\n",
        " [False False False False False False False False False False False False\n",
        "  False False False False False False False False]\n",
        " [False False False False False False False False False False False False\n",
        "  False False False False False False False False]\n",
        " [ True  True  True  True  True  True  True  True  True  True  True  True\n",
        "   True  True  True  True  True  True  True  True]\n",
        " [False False False False False False False False False False False False\n",
        "  False False False False False False False False]\n",
        " [False False False False False False False False False False False False\n",
        "  False False False False False False False False]\n",
        " [False False False False False False False False False False False False\n",
        "  False False False False False False False False]\n",
        " [False False False False False False False False False False False False\n",
        "  False False False False False False False False]\n",
        " [False False False False False False False False False False False False\n",
        "  False False False False False False False False]\n",
        " [False False False False False False False False False False False False\n",
        "  False False False False False False False False]\n",
        " [False False False False False False False False False False False False\n",
        "  False False False False False False False False]\n",
        " [False False False False False False False False False False False False\n",
        "  False False False False False False False False]\n",
        " [False False False False False False False False False False False False\n",
        "  False False False False False False False False]]\n"
       ]
      }
     ],
     "prompt_number": 2
    },
    {
     "cell_type": "markdown",
     "metadata": {},
     "source": [
      "B.\n",
      "-"
     ]
    },
    {
     "cell_type": "code",
     "collapsed": false,
     "input": [
      "print(Vdipole[mask])"
     ],
     "language": "python",
     "metadata": {},
     "outputs": [
      {
       "output_type": "stream",
       "stream": "stdout",
       "text": [
        "[ -0.74833333  -0.93298701  -1.19733333  -1.59644444  -2.245       -3.42095238\n",
        "  -5.98666667 -14.368              -inf -11.97333333   0.          11.97333333\n",
        "          inf  14.368        5.98666667   3.42095238   2.245        1.59644444\n",
        "   1.19733333   0.93298701]\n"
       ]
      }
     ],
     "prompt_number": 3
    },
    {
     "cell_type": "markdown",
     "metadata": {},
     "source": [
      "2.\n",
      "="
     ]
    },
    {
     "cell_type": "markdown",
     "metadata": {},
     "source": [
      "A.\n",
      "-"
     ]
    },
    {
     "cell_type": "code",
     "collapsed": false,
     "input": [
      "from scipy.interpolate import interp1d\n",
      "#from thermistorData import *,    not sure if this will actually work\n",
      "#def Temp(Resistance):\n",
      "    "
     ],
     "language": "python",
     "metadata": {},
     "outputs": [],
     "prompt_number": 4
    },
    {
     "cell_type": "code",
     "collapsed": false,
     "input": [
      "data = loadtxt(\"Thermistor.txt\",float)    #used this instead to bring in data\n",
      "x = data[:,0] #Temp\n",
      "y = data[:,1] #Resistance"
     ],
     "language": "python",
     "metadata": {},
     "outputs": [],
     "prompt_number": 5
    },
    {
     "cell_type": "code",
     "collapsed": false,
     "input": [
      "def Temp(Resistance):\n",
      "    \"\"\"Takes in our data of the thermistor and interpolates it, the commented out parts are for plotting\"\"\"\n",
      "    TempInterp = interp1d(x, y)\n",
      "    z = arange(Resistance, Resistance)\n",
      "    #new_x_array = arange(min(x),max(x), 0.05)\n",
      "    #plot(new_x_array,TempInterp(new_x_array), 'r-')\n",
      "    #return TempInterp(z)\n",
      "    #plot(x,y) works\n",
      "    #print arange(Resistance, Resistance, 0.1)\n",
      "fig = figure()\n",
      "ax = subplot(2,1,1)\n",
      "plot(x,y, color=\"red\")\n",
      "plot(x, interp1d(x,y)(x))\n",
      "show()"
     ],
     "language": "python",
     "metadata": {},
     "outputs": [
      {
       "output_type": "display_data",
       "png": "[encoded data removed]"
      }
     ],
     "prompt_number": 6
    },
    {
     "cell_type": "code",
     "collapsed": false,
     "input": [
      "plot(x,y)\n",
      "show()\n"
     ],
     "language": "python",
     "metadata": {},
     "outputs": [
      {
       "output_type": "display_data",
       "png": "[encoded data removed]"
      }
     ],
     "prompt_number": 7
    },
    {
     "cell_type": "markdown",
     "metadata": {},
     "source": []
    },
    {
     "cell_type": "markdown",
     "metadata": {},
     "source": [
      "C.\n",
      "-"
     ]
    },
    {
     "cell_type": "code",
     "collapsed": false,
     "input": [],
     "language": "python",
     "metadata": {},
     "outputs": []
    },
    {
     "cell_type": "markdown",
     "metadata": {},
     "source": [
      "3.\n",
      "="
     ]
    },
    {
     "cell_type": "markdown",
     "metadata": {},
     "source": [
      "A.\n",
      "-"
     ]
    },
    {
     "cell_type": "code",
     "collapsed": false,
     "input": [
      "def finiteDifference(x,y):\n",
      "    #dy = diff(y) #y(n+1)-y(n)\n",
      "    #dx = diff(x)\n",
      "    #dydx = dy/dx these three aren't necessary but set up our derivative concept\n",
      "    dydx2 = zeros(y.shape,float) # we know it will be this size\n",
      "    dydx2[1:-1] = (y[2:]-y[:-2])/(x[2:]-x[:-2]) #center difference\n",
      "    dydx2[-1] = (y[-1]-y[-2])/(x[-1]-x[-2]) #backward difference because it added the tail to the data\n",
      "    \n",
      "    return dydx2"
     ],
     "language": "python",
     "metadata": {},
     "outputs": [],
     "prompt_number": 28
    },
    {
     "cell_type": "markdown",
     "metadata": {},
     "source": []
    },
    {
     "cell_type": "markdown",
     "metadata": {},
     "source": [
      "B.\n",
      "-"
     ]
    },
    {
     "cell_type": "code",
     "collapsed": false,
     "input": [
      "x = arange(0.,10.01,0.1)\n",
      "y = x**5\n",
      "print finiteDifference(x,y)"
     ],
     "language": "python",
     "metadata": {},
     "outputs": [
      {
       "output_type": "stream",
       "stream": "stdout",
       "text": [
        "[  0.00000000e+00   1.60000000e-03   1.21000000e-02   4.96000000e-02\n",
        "   1.44100000e-01   3.37600000e-01   6.84100000e-01   1.24960000e+00\n",
        "   2.11210000e+00   3.36160000e+00   5.10010000e+00   7.44160000e+00\n",
        "   1.05121000e+01   1.44496000e+01   1.94041000e+01   2.55376000e+01\n",
        "   3.30241000e+01   4.20496000e+01   5.28121000e+01   6.55216000e+01\n",
        "   8.04001000e+01   9.76816000e+01   1.17612100e+02   1.40449600e+02\n",
        "   1.66464100e+02   1.95937600e+02   2.29164100e+02   2.66449600e+02\n",
        "   3.08112100e+02   3.54481600e+02   4.05900100e+02   4.62721600e+02\n",
        "   5.25312100e+02   5.94049600e+02   6.69324100e+02   7.51537600e+02\n",
        "   8.41104100e+02   9.38449600e+02   1.04401210e+03   1.15824160e+03\n",
        "   1.28160010e+03   1.41456160e+03   1.55761210e+03   1.71124960e+03\n",
        "   1.87598410e+03   2.05233760e+03   2.24084410e+03   2.44204960e+03\n",
        "   2.65651210e+03   2.88480160e+03   3.12750010e+03   3.38520160e+03\n",
        "   3.65851210e+03   3.94804960e+03   4.25444410e+03   4.57833760e+03\n",
        "   4.92038410e+03   5.28124960e+03   5.66161210e+03   6.06216160e+03\n",
        "   6.48360010e+03   6.92664160e+03   7.39201210e+03   7.88044960e+03\n",
        "   8.39270410e+03   8.92953760e+03   9.49172410e+03   1.00800496e+04\n",
        "   1.06953121e+04   1.13383216e+04   1.20099001e+04   1.27108816e+04\n",
        "   1.34421121e+04   1.42044496e+04   1.49987641e+04   1.58259376e+04\n",
        "   1.66868641e+04   1.75824496e+04   1.85136121e+04   1.94812816e+04\n",
        "   2.04864001e+04   2.15299216e+04   2.26128121e+04   2.37360496e+04\n",
        "   2.49006241e+04   2.61075376e+04   2.73578041e+04   2.86524496e+04\n",
        "   2.99925121e+04   3.13790416e+04   3.28131001e+04   3.42957616e+04\n",
        "   3.58281121e+04   3.74112496e+04   3.90462841e+04   4.07343376e+04\n",
        "   4.24765441e+04   4.42740496e+04   4.61280121e+04   4.80396016e+04\n",
        "   4.90099501e+04]\n"
       ]
      }
     ],
     "prompt_number": 29
    },
    {
     "cell_type": "markdown",
     "metadata": {},
     "source": [
      "C.\n",
      "-"
     ]
    },
    {
     "cell_type": "code",
     "collapsed": false,
     "input": [
      "x = arange(0.,10.01,0.001)\n",
      "y = x**5\n",
      "dydxExact = 5*x**4\n",
      "plot(x,finiteDifference(x,y),label='center diffrerence', color='blue')\n",
      "plot(x,dydxExact,label='exact', color='red')\n",
      "legend(loc='upper left')\n",
      "xlabel('x', fontsize = 14)\n",
      "ylabel('y', fontsize = 14)\n",
      "title('dydx of x**5', fontsize = 16)\n",
      "show()"
     ],
     "language": "python",
     "metadata": {},
     "outputs": [
      {
       "output_type": "display_data",
       "png": "[encoded data removed]"
      }
     ],
     "prompt_number": 45
    },
    {
     "cell_type": "code",
     "collapsed": false,
     "input": [
      "plot(x, finiteDifference(x,y)-dydxExact)\n",
      "show()\n",
      "#To my observation, our difference is zero!"
     ],
     "language": "python",
     "metadata": {},
     "outputs": [
      {
       "output_type": "display_data",
       "png": "[encoded data removed]"
      }
     ],
     "prompt_number": 44
    },
    {
     "cell_type": "markdown",
     "metadata": {},
     "source": [
      "D.\n",
      "-"
     ]
    },
    {
     "cell_type": "code",
     "collapsed": false,
     "input": [],
     "language": "python",
     "metadata": {},
     "outputs": [],
     "prompt_number": 45
    },
    {
     "cell_type": "markdown",
     "metadata": {},
     "source": [
      "4.\n",
      "="
     ]
    },
    {
     "cell_type": "markdown",
     "metadata": {},
     "source": [
      "A.\n",
      "-"
     ]
    },
    {
     "cell_type": "code",
     "collapsed": false,
     "input": [
      "x = linspace(0,2*pi,100)\n",
      "y = sin(x) + 0.1*random.random(size=x.shape)\n",
      "plot(x,y)\n",
      "show()"
     ],
     "language": "python",
     "metadata": {},
     "outputs": [
      {
       "output_type": "display_data",
       "png": "[encoded data removed]"
      }
     ],
     "prompt_number": 3
    },
    {
     "cell_type": "markdown",
     "metadata": {},
     "source": [
      "B.\n",
      "-"
     ]
    },
    {
     "cell_type": "code",
     "collapsed": false,
     "input": [
      "x = linspace(0,2*pi,100)\n",
      "y = sin(x) + 0.1*random.random(size=x.shape)\n",
      "dydx(i) = y[i-2]-8y[i-1]+8y[i+1]-y[i+2] #higher order derivative\n",
      "def finiteDifference(x,y):\n",
      "    dydx2 = zeros(y.shape,float) # we know it will be this size\n",
      "    dydx2[1:-1] = (y[2:]-y[:-2])/(x[2:]-x[:-2]) #center difference\n",
      "    dydx2[-1] = (y[-1]-y[-2])/(x[-1]-x[-2]) #backward difference because it added the tail to the data\n",
      "finiteDifference(x,y[0])   \n",
      "def fourPtFiniteDiff(x,y):\n",
      "    \n",
      "    \n",
      "    \n",
      "    "
     ],
     "language": "python",
     "metadata": {},
     "outputs": [
      {
       "ename": "IndexError",
       "evalue": "invalid index to scalar variable.",
       "output_type": "pyerr",
       "traceback": [
        "\u001b[1;31m---------------------------------------------------------------------------\u001b[0m\n\u001b[1;31mIndexError\u001b[0m                                Traceback (most recent call last)",
        "\u001b[1;32m<ipython-input-4-70e590d35334>\u001b[0m in \u001b[0;36m<module>\u001b[1;34m()\u001b[0m\n\u001b[0;32m      4\u001b[0m     \u001b[0mdydx2\u001b[0m\u001b[1;33m[\u001b[0m\u001b[1;36m1\u001b[0m\u001b[1;33m:\u001b[0m\u001b[1;33m-\u001b[0m\u001b[1;36m1\u001b[0m\u001b[1;33m]\u001b[0m \u001b[1;33m=\u001b[0m \u001b[1;33m(\u001b[0m\u001b[0my\u001b[0m\u001b[1;33m[\u001b[0m\u001b[1;36m2\u001b[0m\u001b[1;33m:\u001b[0m\u001b[1;33m]\u001b[0m\u001b[1;33m-\u001b[0m\u001b[0my\u001b[0m\u001b[1;33m[\u001b[0m\u001b[1;33m:\u001b[0m\u001b[1;33m-\u001b[0m\u001b[1;36m2\u001b[0m\u001b[1;33m]\u001b[0m\u001b[1;33m)\u001b[0m\u001b[1;33m/\u001b[0m\u001b[1;33m(\u001b[0m\u001b[0mx\u001b[0m\u001b[1;33m[\u001b[0m\u001b[1;36m2\u001b[0m\u001b[1;33m:\u001b[0m\u001b[1;33m]\u001b[0m\u001b[1;33m-\u001b[0m\u001b[0mx\u001b[0m\u001b[1;33m[\u001b[0m\u001b[1;33m:\u001b[0m\u001b[1;33m-\u001b[0m\u001b[1;36m2\u001b[0m\u001b[1;33m]\u001b[0m\u001b[1;33m)\u001b[0m \u001b[1;31m#center difference\u001b[0m\u001b[1;33m\u001b[0m\u001b[0m\n\u001b[0;32m      5\u001b[0m     \u001b[0mdydx2\u001b[0m\u001b[1;33m[\u001b[0m\u001b[1;33m-\u001b[0m\u001b[1;36m1\u001b[0m\u001b[1;33m]\u001b[0m \u001b[1;33m=\u001b[0m \u001b[1;33m(\u001b[0m\u001b[0my\u001b[0m\u001b[1;33m[\u001b[0m\u001b[1;33m-\u001b[0m\u001b[1;36m1\u001b[0m\u001b[1;33m]\u001b[0m\u001b[1;33m-\u001b[0m\u001b[0my\u001b[0m\u001b[1;33m[\u001b[0m\u001b[1;33m-\u001b[0m\u001b[1;36m2\u001b[0m\u001b[1;33m]\u001b[0m\u001b[1;33m)\u001b[0m\u001b[1;33m/\u001b[0m\u001b[1;33m(\u001b[0m\u001b[0mx\u001b[0m\u001b[1;33m[\u001b[0m\u001b[1;33m-\u001b[0m\u001b[1;36m1\u001b[0m\u001b[1;33m]\u001b[0m\u001b[1;33m-\u001b[0m\u001b[0mx\u001b[0m\u001b[1;33m[\u001b[0m\u001b[1;33m-\u001b[0m\u001b[1;36m2\u001b[0m\u001b[1;33m]\u001b[0m\u001b[1;33m)\u001b[0m \u001b[1;31m#backward difference because it added the tail to the data\u001b[0m\u001b[1;33m\u001b[0m\u001b[0m\n\u001b[1;32m----> 6\u001b[1;33m \u001b[0mfiniteDifference\u001b[0m\u001b[1;33m(\u001b[0m\u001b[0mx\u001b[0m\u001b[1;33m,\u001b[0m\u001b[0my\u001b[0m\u001b[1;33m[\u001b[0m\u001b[1;36m0\u001b[0m\u001b[1;33m]\u001b[0m\u001b[1;33m)\u001b[0m\u001b[1;33m\u001b[0m\u001b[0m\n\u001b[0m\u001b[0;32m      7\u001b[0m \u001b[1;31m#def fourPtFiniteDiff(x,y):\u001b[0m\u001b[1;33m\u001b[0m\u001b[1;33m\u001b[0m\u001b[0m\n\u001b[0;32m      8\u001b[0m \u001b[1;33m\u001b[0m\u001b[0m\n",
        "\u001b[1;32m<ipython-input-4-70e590d35334>\u001b[0m in \u001b[0;36mfiniteDifference\u001b[1;34m(x, y)\u001b[0m\n\u001b[0;32m      2\u001b[0m \u001b[1;32mdef\u001b[0m \u001b[0mfiniteDifference\u001b[0m\u001b[1;33m(\u001b[0m\u001b[0mx\u001b[0m\u001b[1;33m,\u001b[0m\u001b[0my\u001b[0m\u001b[1;33m)\u001b[0m\u001b[1;33m:\u001b[0m\u001b[1;33m\u001b[0m\u001b[0m\n\u001b[0;32m      3\u001b[0m     \u001b[0mdydx2\u001b[0m \u001b[1;33m=\u001b[0m \u001b[0mzeros\u001b[0m\u001b[1;33m(\u001b[0m\u001b[0my\u001b[0m\u001b[1;33m.\u001b[0m\u001b[0mshape\u001b[0m\u001b[1;33m,\u001b[0m\u001b[0mfloat\u001b[0m\u001b[1;33m)\u001b[0m \u001b[1;31m# we know it will be this size\u001b[0m\u001b[1;33m\u001b[0m\u001b[0m\n\u001b[1;32m----> 4\u001b[1;33m     \u001b[0mdydx2\u001b[0m\u001b[1;33m[\u001b[0m\u001b[1;36m1\u001b[0m\u001b[1;33m:\u001b[0m\u001b[1;33m-\u001b[0m\u001b[1;36m1\u001b[0m\u001b[1;33m]\u001b[0m \u001b[1;33m=\u001b[0m \u001b[1;33m(\u001b[0m\u001b[0my\u001b[0m\u001b[1;33m[\u001b[0m\u001b[1;36m2\u001b[0m\u001b[1;33m:\u001b[0m\u001b[1;33m]\u001b[0m\u001b[1;33m-\u001b[0m\u001b[0my\u001b[0m\u001b[1;33m[\u001b[0m\u001b[1;33m:\u001b[0m\u001b[1;33m-\u001b[0m\u001b[1;36m2\u001b[0m\u001b[1;33m]\u001b[0m\u001b[1;33m)\u001b[0m\u001b[1;33m/\u001b[0m\u001b[1;33m(\u001b[0m\u001b[0mx\u001b[0m\u001b[1;33m[\u001b[0m\u001b[1;36m2\u001b[0m\u001b[1;33m:\u001b[0m\u001b[1;33m]\u001b[0m\u001b[1;33m-\u001b[0m\u001b[0mx\u001b[0m\u001b[1;33m[\u001b[0m\u001b[1;33m:\u001b[0m\u001b[1;33m-\u001b[0m\u001b[1;36m2\u001b[0m\u001b[1;33m]\u001b[0m\u001b[1;33m)\u001b[0m \u001b[1;31m#center difference\u001b[0m\u001b[1;33m\u001b[0m\u001b[0m\n\u001b[0m\u001b[0;32m      5\u001b[0m     \u001b[0mdydx2\u001b[0m\u001b[1;33m[\u001b[0m\u001b[1;33m-\u001b[0m\u001b[1;36m1\u001b[0m\u001b[1;33m]\u001b[0m \u001b[1;33m=\u001b[0m \u001b[1;33m(\u001b[0m\u001b[0my\u001b[0m\u001b[1;33m[\u001b[0m\u001b[1;33m-\u001b[0m\u001b[1;36m1\u001b[0m\u001b[1;33m]\u001b[0m\u001b[1;33m-\u001b[0m\u001b[0my\u001b[0m\u001b[1;33m[\u001b[0m\u001b[1;33m-\u001b[0m\u001b[1;36m2\u001b[0m\u001b[1;33m]\u001b[0m\u001b[1;33m)\u001b[0m\u001b[1;33m/\u001b[0m\u001b[1;33m(\u001b[0m\u001b[0mx\u001b[0m\u001b[1;33m[\u001b[0m\u001b[1;33m-\u001b[0m\u001b[1;36m1\u001b[0m\u001b[1;33m]\u001b[0m\u001b[1;33m-\u001b[0m\u001b[0mx\u001b[0m\u001b[1;33m[\u001b[0m\u001b[1;33m-\u001b[0m\u001b[1;36m2\u001b[0m\u001b[1;33m]\u001b[0m\u001b[1;33m)\u001b[0m \u001b[1;31m#backward difference because it added the tail to the data\u001b[0m\u001b[1;33m\u001b[0m\u001b[0m\n\u001b[0;32m      6\u001b[0m \u001b[0mfiniteDifference\u001b[0m\u001b[1;33m(\u001b[0m\u001b[0mx\u001b[0m\u001b[1;33m,\u001b[0m\u001b[0my\u001b[0m\u001b[1;33m[\u001b[0m\u001b[1;36m0\u001b[0m\u001b[1;33m]\u001b[0m\u001b[1;33m)\u001b[0m\u001b[1;33m\u001b[0m\u001b[0m\n",
        "\u001b[1;31mIndexError\u001b[0m: invalid index to scalar variable."
       ]
      }
     ],
     "prompt_number": 4
    },
    {
     "cell_type": "code",
     "collapsed": false,
     "input": [],
     "language": "python",
     "metadata": {},
     "outputs": []
    }
   ],
   "metadata": {}
  }
 ]
}