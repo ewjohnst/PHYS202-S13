{
 "metadata": {
  "name": "ProjectEuler#16"
 },
 "nbformat": 3,
 "nbformat_minor": 0,
 "worksheets": [
  {
   "cells": [
    {
     "cell_type": "markdown",
     "metadata": {},
     "source": [
      "Project Euler #16\n",
      "="
     ]
    },
    {
     "cell_type": "code",
     "collapsed": false,
     "input": [
      "sum = 0\n",
      "x = 2**1000\n",
      "number_string = str(x)\n",
      "for digit in number_string:\n",
      "    sum += int(digit)\n",
      "print sum"
     ],
     "language": "python",
     "metadata": {},
     "outputs": []
    }
   ],
   "metadata": {}
  }
 ]
}