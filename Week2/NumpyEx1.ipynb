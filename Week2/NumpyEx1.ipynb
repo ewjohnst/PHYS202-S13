{
 "metadata": {
  "name": "NumpyEx1"
 },
 "nbformat": 3,
 "nbformat_minor": 0,
 "worksheets": [
  {
   "cells": [
    {
     "cell_type": "markdown",
     "metadata": {},
     "source": [
      "Numpy Exercises\n",
      "="
     ]
    },
    {
     "cell_type": "markdown",
     "metadata": {},
     "source": [
      "Number 1\n",
      "-"
     ]
    },
    {
     "cell_type": "code",
     "collapsed": false,
     "input": [
      "a = np.array([[1,1,1,1],[1,1,1,1],[1,1,1,2],[1,6,1,1]])\n",
      "print a\n"
     ],
     "language": "python",
     "metadata": {},
     "outputs": [
      {
       "output_type": "stream",
       "stream": "stdout",
       "text": [
        "[[1 1 1 1]\n",
        " [1 1 1 1]\n",
        " [1 1 1 2]\n",
        " [1 6 1 1]]\n"
       ]
      }
     ],
     "prompt_number": 16
    },
    {
     "cell_type": "code",
     "collapsed": false,
     "input": [
      "b = np.diag(np.array([2.,3.,4.,5.,6.]))"
     ],
     "language": "python",
     "metadata": {},
     "outputs": [],
     "prompt_number": 4
    },
    {
     "cell_type": "code",
     "collapsed": false,
     "input": [
      "b"
     ],
     "language": "python",
     "metadata": {},
     "outputs": [
      {
       "output_type": "pyout",
       "prompt_number": 5,
       "text": [
        "array([[ 2.,  0.,  0.,  0.,  0.],\n",
        "       [ 0.,  3.,  0.,  0.,  0.],\n",
        "       [ 0.,  0.,  4.,  0.,  0.],\n",
        "       [ 0.,  0.,  0.,  5.,  0.],\n",
        "       [ 0.,  0.,  0.,  0.,  6.]])"
       ]
      }
     ],
     "prompt_number": 5
    },
    {
     "cell_type": "code",
     "collapsed": false,
     "input": [],
     "language": "python",
     "metadata": {},
     "outputs": []
    },
    {
     "cell_type": "code",
     "collapsed": false,
     "input": [
      "c = np.array([0.,0.,0.,0.,0.])"
     ],
     "language": "python",
     "metadata": {},
     "outputs": [],
     "prompt_number": 6
    },
    {
     "cell_type": "code",
     "collapsed": false,
     "input": [
      "b = np.diag(np.array([2., 3., 4., 5., 6.,], dtype = float))\n",
      "c = np.array([0., 0., 0., 0., 0.])\n",
      "x = [c, b]\n",
      "def join_arrays(c, b):\n",
      "    new_array = np.array()\n",
      "for i in x:\n",
      "    for a in i:\n",
      "        new_array.append(a)\n",
      "        return new_array\n",
      "\n",
      "print join_arrays(c, b)"
     ],
     "language": "python",
     "metadata": {},
     "outputs": [
      {
       "ename": "SyntaxError",
       "evalue": "'return' outside function (<ipython-input-21-89e799e16af5>, line 9)",
       "output_type": "pyerr",
       "traceback": [
        "\u001b[0;36m  File \u001b[0;32m\"<ipython-input-21-89e799e16af5>\"\u001b[0;36m, line \u001b[0;32m9\u001b[0m\n\u001b[0;31mSyntaxError\u001b[0m\u001b[0;31m:\u001b[0m 'return' outside function\n"
       ]
      }
     ],
     "prompt_number": 21
    },
    {
     "cell_type": "code",
     "collapsed": false,
     "input": [
      "e = vstack((c,b))\n",
      "print e"
     ],
     "language": "python",
     "metadata": {},
     "outputs": [
      {
       "output_type": "stream",
       "stream": "stdout",
       "text": [
        "[[ 0.  0.  0.  0.  0.]\n",
        " [ 2.  0.  0.  0.  0.]\n",
        " [ 0.  3.  0.  0.  0.]\n",
        " [ 0.  0.  4.  0.  0.]\n",
        " [ 0.  0.  0.  5.  0.]\n",
        " [ 0.  0.  0.  0.  6.]]\n"
       ]
      }
     ],
     "prompt_number": 23
    },
    {
     "cell_type": "markdown",
     "metadata": {},
     "source": [
      "Number 2\n",
      "-"
     ]
    },
    {
     "cell_type": "code",
     "collapsed": false,
     "input": [
      "help(np.tile)"
     ],
     "language": "python",
     "metadata": {},
     "outputs": [
      {
       "output_type": "stream",
       "stream": "stdout",
       "text": [
        "Help on function tile in module numpy.lib.shape_base:\n",
        "\n",
        "tile(A, reps)\n",
        "    Construct an array by repeating A the number of times given by reps.\n",
        "    \n",
        "    If `reps` has length ``d``, the result will have dimension of\n",
        "    ``max(d, A.ndim)``.\n",
        "    \n",
        "    If ``A.ndim < d``, `A` is promoted to be d-dimensional by prepending new\n",
        "    axes. So a shape (3,) array is promoted to (1, 3) for 2-D replication,\n",
        "    or shape (1, 1, 3) for 3-D replication. If this is not the desired\n",
        "    behavior, promote `A` to d-dimensions manually before calling this\n",
        "    function.\n",
        "    \n",
        "    If ``A.ndim > d``, `reps` is promoted to `A`.ndim by pre-pending 1's to it.\n",
        "    Thus for an `A` of shape (2, 3, 4, 5), a `reps` of (2, 2) is treated as\n",
        "    (1, 1, 2, 2).\n",
        "    \n",
        "    Parameters\n",
        "    ----------\n",
        "    A : array_like\n",
        "        The input array.\n",
        "    reps : array_like\n",
        "        The number of repetitions of `A` along each axis.\n",
        "    \n",
        "    Returns\n",
        "    -------\n",
        "    c : ndarray\n",
        "        The tiled output array.\n",
        "    \n",
        "    See Also\n",
        "    --------\n",
        "    repeat : Repeat elements of an array.\n",
        "    \n",
        "    Examples\n",
        "    --------\n",
        "    >>> a = np.array([0, 1, 2])\n",
        "    >>> np.tile(a, 2)\n",
        "    array([0, 1, 2, 0, 1, 2])\n",
        "    >>> np.tile(a, (2, 2))\n",
        "    array([[0, 1, 2, 0, 1, 2],\n",
        "           [0, 1, 2, 0, 1, 2]])\n",
        "    >>> np.tile(a, (2, 1, 2))\n",
        "    array([[[0, 1, 2, 0, 1, 2]],\n",
        "           [[0, 1, 2, 0, 1, 2]]])\n",
        "    \n",
        "    >>> b = np.array([[1, 2], [3, 4]])\n",
        "    >>> np.tile(b, 2)\n",
        "    array([[1, 2, 1, 2],\n",
        "           [3, 4, 3, 4]])\n",
        "    >>> np.tile(b, (2, 1))\n",
        "    array([[1, 2],\n",
        "           [3, 4],\n",
        "           [1, 2],\n",
        "           [3, 4]])\n",
        "\n"
       ]
      }
     ],
     "prompt_number": 24
    },
    {
     "cell_type": "code",
     "collapsed": false,
     "input": [
      "f = np.array([[4, 3], [2, 1]])\n",
      "print np.tile(f, (2, 3))"
     ],
     "language": "python",
     "metadata": {},
     "outputs": [
      {
       "output_type": "stream",
       "stream": "stdout",
       "text": [
        "[[4 3 4 3 4 3]\n",
        " [2 1 2 1 2 1]\n",
        " [4 3 4 3 4 3]\n",
        " [2 1 2 1 2 1]]\n"
       ]
      }
     ],
     "prompt_number": 27
    },
    {
     "cell_type": "markdown",
     "metadata": {},
     "source": [
      "Number 3\n",
      "-\n"
     ]
    },
    {
     "cell_type": "code",
     "collapsed": false,
     "input": [
      "is_prime = np.ones((100,), dtype = bool\n",
      "is_prime[0] and is_prime[1] = False\n",
      "print is_prime\n"
     ],
     "language": "python",
     "metadata": {},
     "outputs": [
      {
       "ename": "SyntaxError",
       "evalue": "invalid syntax (<ipython-input-39-dbfd809a1e1e>, line 2)",
       "output_type": "pyerr",
       "traceback": [
        "\u001b[0;36m  File \u001b[0;32m\"<ipython-input-39-dbfd809a1e1e>\"\u001b[0;36m, line \u001b[0;32m2\u001b[0m\n\u001b[0;31m    is_prime[0] and is_prime[1] = False\u001b[0m\n\u001b[0m           ^\u001b[0m\n\u001b[0;31mSyntaxError\u001b[0m\u001b[0;31m:\u001b[0m invalid syntax\n"
       ]
      }
     ],
     "prompt_number": 39
    },
    {
     "cell_type": "code",
     "collapsed": false,
     "input": [],
     "language": "python",
     "metadata": {},
     "outputs": []
    }
   ],
   "metadata": {}
  }
 ]
}