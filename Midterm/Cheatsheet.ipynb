{
 "metadata": {
  "name": "Cheatsheet"
 },
 "nbformat": 3,
 "nbformat_minor": 0,
 "worksheets": [
  {
   "cells": [
    {
     "cell_type": "markdown",
     "metadata": {},
     "source": [
      "Testing accuracy of derivatives.\n",
      "-"
     ]
    },
    {
     "cell_type": "code",
     "collapsed": false,
     "input": [
      "import Differentiators2 as Diff\n",
      "x = arange(0.,100.,1)\n",
      "y = x**5\n",
      "plot(x, finiteDifference(x,y)"
     ],
     "language": "python",
     "metadata": {},
     "outputs": [
      {
       "ename": "NameError",
       "evalue": "name 'finiteDifference' is not defined",
       "output_type": "pyerr",
       "traceback": [
        "\u001b[1;31m---------------------------------------------------------------------------\u001b[0m\n\u001b[1;31mNameError\u001b[0m                                 Traceback (most recent call last)",
        "\u001b[1;32m<ipython-input-1-8e3e31e301fe>\u001b[0m in \u001b[0;36m<module>\u001b[1;34m()\u001b[0m\n\u001b[0;32m      2\u001b[0m \u001b[0mx\u001b[0m \u001b[1;33m=\u001b[0m \u001b[0marange\u001b[0m\u001b[1;33m(\u001b[0m\u001b[1;36m0.\u001b[0m\u001b[1;33m,\u001b[0m\u001b[1;36m100.\u001b[0m\u001b[1;33m,\u001b[0m\u001b[1;36m1\u001b[0m\u001b[1;33m)\u001b[0m\u001b[1;33m\u001b[0m\u001b[0m\n\u001b[0;32m      3\u001b[0m \u001b[0my\u001b[0m \u001b[1;33m=\u001b[0m \u001b[0mx\u001b[0m\u001b[1;33m**\u001b[0m\u001b[1;36m5\u001b[0m\u001b[1;33m\u001b[0m\u001b[0m\n\u001b[1;32m----> 4\u001b[1;33m \u001b[0mplot\u001b[0m\u001b[1;33m(\u001b[0m\u001b[0mx\u001b[0m\u001b[1;33m,\u001b[0m \u001b[0mfiniteDifference\u001b[0m\u001b[1;33m(\u001b[0m\u001b[0mx\u001b[0m\u001b[1;33m,\u001b[0m\u001b[0my\u001b[0m\u001b[1;33m)\u001b[0m\u001b[1;33m)\u001b[0m\u001b[1;33m\u001b[0m\u001b[0m\n\u001b[0m",
        "\u001b[1;31mNameError\u001b[0m: name 'finiteDifference' is not defined"
       ]
      }
     ],
     "prompt_number": 1
    },
    {
     "cell_type": "code",
     "collapsed": false,
     "input": [
      "#testing for accuracy    \n",
      "x1 = arange(0.,10.,0.01)\n",
      "y1 = x1**5\n",
      "dydxExact = 5*x1**4\n",
      "mydydx = fourPtFiniteDiff(x1, y1)\n",
      "#print abs(dydxExact - mydydx)\n",
      "\n",
      "plot(x1, .0001*abs((dydxExact - mydydx)/(dydxExact)), label = 'percent error')"
     ],
     "language": "python",
     "metadata": {},
     "outputs": [],
     "prompt_number": 1
    },
    {
     "cell_type": "markdown",
     "metadata": {},
     "source": [
      "Random Stuff\n",
      "-"
     ]
    },
    {
     "cell_type": "code",
     "collapsed": false,
     "input": [
      "Junk = \"IXXX aXXmX aXXXnXoXXXXXtXhXeXXXXrX sXXXXeXcXXXrXeXt mXXeXsXXXsXaXXXXXXgXeX!XX\"\n",
      "message = filter(lambda l: l != \"X\", Junk)\n",
      "#print message\n",
      "\n",
      "list_a = [3, 9, 17, 15, 19]\n",
      "list_b = [2, 4, 8, 10, 30, 40, 50, 60, 70, 80, 90]\n",
      "\n",
      "for a, b in zip(list_a, list_b):\n",
      "    # Add your code here!\n",
      "    print a #or print a,b to show in columns\n",
      "    print b\n",
      "\n",
      "\n"
     ],
     "language": "python",
     "metadata": {},
     "outputs": [
      {
       "output_type": "stream",
       "stream": "stdout",
       "text": [
        "3\n",
        "2\n",
        "9\n",
        "4\n",
        "17\n",
        "8\n",
        "15\n",
        "10\n",
        "19\n",
        "30\n"
       ]
      }
     ],
     "prompt_number": 9
    },
    {
     "cell_type": "markdown",
     "metadata": {},
     "source": [
      "Dipole stuff\n",
      "-"
     ]
    },
    {
     "cell_type": "code",
     "collapsed": false,
     "input": [
      "dx = 8./101.\n",
      "dy = 8./101.\n",
      "\n",
      "q1 = 1.e-9\n",
      "q2 = -1.e-9\n",
      "\n",
      "#d is separation of the dipole\n",
      "d = 1\n",
      "\n",
      "k = 8.987551787368176\n",
      "#units of k: Nmm/CC\n",
      "x,y = np.meshgrid(np.arange(-4.,4.,dx), np.arange(-4., 4., dy))\n"
     ],
     "language": "python",
     "metadata": {},
     "outputs": []
    }
   ],
   "metadata": {}
  }
 ]
}