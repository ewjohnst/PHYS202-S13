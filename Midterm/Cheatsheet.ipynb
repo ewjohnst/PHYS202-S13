{
 "metadata": {
  "name": "Cheatsheet"
 },
 "nbformat": 3,
 "nbformat_minor": 0,
 "worksheets": [
  {
   "cells": [
    {
     "cell_type": "markdown",
     "metadata": {},
     "source": [
      "Testing accuracy of derivatives.\n",
      "-"
     ]
    },
    {
     "cell_type": "code",
     "collapsed": false,
     "input": [
      "from Differentiators import finiteDifference\n",
      "from Differentiators import fourPtFiniteDiff\n",
      "x = arange(0.,100.,1)\n",
      "y = x**5\n",
      "plot(x, finiteDifference(x,y))\n",
      "plot(x, fourPtFiniteDiff(x,y))\n",
      "plot(x, 100*abs(fourPtFiniteDiff(x,y)-finiteDifference(x,y))) #percent difference between 2 methods"
     ],
     "language": "python",
     "metadata": {},
     "outputs": [
      {
       "output_type": "pyout",
       "prompt_number": 9,
       "text": [
        "[<matplotlib.lines.Line2D at 0x87e7fd0>]"
       ]
      },
      {
       "output_type": "display_data",
       "png": "[encoded data removed]"
      }
     ],
     "prompt_number": 9
    },
    {
     "cell_type": "code",
     "collapsed": false,
     "input": [
      "#testing for accuracy    \n",
      "x1 = arange(0.,10.,0.01)\n",
      "y1 = x1**5\n",
      "dydxExact = 5*x1**4\n",
      "mydydx = fourPtFiniteDiff(x1, y1)\n",
      "#print abs(dydxExact - mydydx)\n",
      "\n",
      "plot(x1, .0001*abs((dydxExact - mydydx)/(dydxExact)), label = 'percent error')"
     ],
     "language": "python",
     "metadata": {},
     "outputs": [],
     "prompt_number": 1
    },
    {
     "cell_type": "markdown",
     "metadata": {},
     "source": [
      "Random Stuff\n",
      "-"
     ]
    },
    {
     "cell_type": "code",
     "collapsed": false,
     "input": [
      "Junk = \"IXXX aXXmX aXXXnXoXXXXXtXhXeXXXXrX sXXXXeXcXXXrXeXt mXXeXsXXXsXaXXXXXXgXeX!XX\"\n",
      "message = filter(lambda l: l != \"X\", Junk)\n",
      "#print message\n",
      "\n",
      "list_a = [3, 9, 17, 15, 19]\n",
      "list_b = [2, 4, 8, 10, 30, 40, 50, 60, 70, 80, 90]\n",
      "\n",
      "for a, b in zip(list_a, list_b):\n",
      "    # Add your code here!\n",
      "    print a #or print a,b to show in columns\n",
      "    print b\n",
      "\n",
      "#Stacking arrays\n",
      "b = np.diag(np.array([2.,3.,4.,5.,6.]))\n",
      "c = np.array([0.,0.,0.,0.,0.])\n",
      "e = vstack((c,b))\n",
      "\n",
      "#Tiling to repeat\n",
      "f = np.array([[4, 3], [2, 1]])\n",
      "print np.tile(f, (2, 3))\n",
      "\n"
     ],
     "language": "python",
     "metadata": {},
     "outputs": [
      {
       "output_type": "stream",
       "stream": "stdout",
       "text": [
        "3\n",
        "2\n",
        "9\n",
        "4\n",
        "17\n",
        "8\n",
        "15\n",
        "10\n",
        "19\n",
        "30\n",
        "[[4 3 4 3 4 3]\n",
        " [2 1 2 1 2 1]\n",
        " [4 3 4 3 4 3]\n",
        " [2 1 2 1 2 1]]\n"
       ]
      }
     ],
     "prompt_number": 10
    },
    {
     "cell_type": "markdown",
     "metadata": {},
     "source": [
      "Graphing Psi\n",
      "-"
     ]
    },
    {
     "cell_type": "code",
     "collapsed": false,
     "input": [
      "x = arange(-pi,pi+0.05, 0.05 )\n",
      "k = 0\n",
      "U = -(1/cosh(x))**2\n",
      "psi = ((i*k-tanh(x))/(i*k+1))\n",
      "psi_squared = psi.conjugate()*psi\n",
      "xticks(np.arange(-pi, pi, pi/2),(\"$-\\pi$\", \"$-\\pi/2$\", \"0.0\", \"$\\pi/2$\", \"$\\pi$\"))\n",
      "plot(x, U, color= \"blue\", linewidth=2.0 , label=\"$U(x)$\")\n",
      "plot(x, psi_squared, color= \"red\", linewidth=2.0, label=\"$\\psi^2, k = 0.0$\")\n",
      "     \n",
      "k = 0.5\n",
      "psi = ((i*k-tanh(x))/(i*k+1))\n",
      "psi_squared = psi.conjugate()*psi\n",
      "plot(x, psi_squared, color= \"red\", linewidth=2.0, linestyle= \"--\", label=\"$\\psi^2, k = 0.5$\")\n",
      "\n",
      "k = 1.0\n",
      "psi = ((i*k-tanh(x))/(i*k+1))\n",
      "psi_squared = psi.conjugate()*psi\n",
      "plot(x, psi_squared, color= \"red\", linewidth=2.0, linestyle= \"-.\", label=\"$\\psi^2, k = 1.0$\")\n",
      "\n",
      "k = 2.0\n",
      "psi = ((i*k-tanh(x))/(i*k+1))\n",
      "psi_squared = psi.conjugate()*psi\n",
      "plot(x, psi_squared, color= \"red\", linewidth=2.0, linestyle= \":\", label=\"$\\psi^2, k = 2.0$\")\n",
      "\n",
      "\n",
      "xlabel(\"x(rad)\", fontsize= 14)\n",
      "ylabel(\"$U(x),\\psi^2_k(x)$\", fontsize = 14)\n",
      "title(\"Potential Energy and Probability density vs. X\")\n",
      "legend(loc = \"lower left\", prop={\"size\": 7.0})\n",
      "\n",
      "grid(True)\n",
      "savefig(\"Probability density.pdf\")\n",
      "show()\n"
     ],
     "language": "python",
     "metadata": {},
     "outputs": []
    },
    {
     "cell_type": "markdown",
     "metadata": {},
     "source": [
      "Other Plotting shortcuts\n",
      "-"
     ]
    },
    {
     "cell_type": "code",
     "collapsed": false,
     "input": [
      "pylab.scatter(x/12, y, s=5, linewidth = 0.2, label = \"Number of sunspots\")\n",
      "xlabel(\"Time(years)\", fontsize= 14)\n",
      "ylabel(\"Number of Sunspots\", fontsize = 14)\n",
      "title(\"Sunspots over time\")\n",
      "legend(loc = \"best\", prop={\"size\": 9.0})\n",
      "grid()\n",
      "show()\n",
      "\n",
      "xlim( (1600, -1) ) #or could have used xlim(xmin=xlim()[1], xmax=xlim()[0])\n",
      "ylim( (20, -6) )    #or ylim(ymin=ylim()[1], ymax=ylim()[0])\n",
      "\n"
     ],
     "language": "python",
     "metadata": {},
     "outputs": []
    },
    {
     "cell_type": "markdown",
     "metadata": {},
     "source": [
      "Dipole stuff\n",
      "-"
     ]
    },
    {
     "cell_type": "code",
     "collapsed": false,
     "input": [
      "dx = 8./101.\n",
      "dy = 8./101.\n",
      "\n",
      "q1 = 1.e-9\n",
      "q2 = -1.e-9\n",
      "\n",
      "#d is separation of the dipole\n",
      "d = 1\n",
      "\n",
      "k = 8.987551787368176\n",
      "#units of k: Nmm/CC\n",
      "x,y = np.meshgrid(np.arange(-4.,4.,dx), np.arange(-4., 4., dy))\n"
     ],
     "language": "python",
     "metadata": {},
     "outputs": [],
     "prompt_number": 11
    },
    {
     "cell_type": "markdown",
     "metadata": {},
     "source": [
      "Trapezoidal Integration\n",
      "-"
     ]
    },
    {
     "cell_type": "code",
     "collapsed": false,
     "input": [
      "f = lambda x: e**(-x**2)\n",
      "def TrapInt(x,N):\n",
      "    \"\"\"This function takes the integral of a function\"\"\"\n",
      "    #N = 30 #number of trapezoids we'll use, not needed\n",
      "    a = 0. #starting point\n",
      "    b = x #ending point\n",
      "    w = (b-a)/N #width of each trapezoid\n",
      "    s = 0.5*f(a) + 0.5*f(b) #first part of formula\n",
      "    for i in range(1,N): #taking integral\n",
      "        s += f(a+i*w)\n",
      "    return(w*s)\n",
      "print TrapInt(3,30)\n"
     ],
     "language": "python",
     "metadata": {},
     "outputs": []
    },
    {
     "cell_type": "code",
     "collapsed": false,
     "input": [],
     "language": "python",
     "metadata": {},
     "outputs": []
    }
   ],
   "metadata": {}
  }
 ]
}