{
 "metadata": {
  "name": "Cheatsheet"
 },
 "nbformat": 3,
 "nbformat_minor": 0,
 "worksheets": [
  {
   "cells": [
    {
     "cell_type": "markdown",
     "metadata": {},
     "source": [
      "Testing accuracy of derivatives.\n",
      "-"
     ]
    },
    {
     "cell_type": "code",
     "collapsed": false,
     "input": [
      "#testing for accuracy    \n",
      "x1 = arange(0.,10.,0.01)\n",
      "y1 = x1**5\n",
      "dydxExact = 5*x1**4\n",
      "mydydx = fourPtFiniteDiff(x1, y1)\n",
      "#print abs(dydxExact - mydydx)\n",
      "\n",
      "plot(x1, .0001*abs((dydxExact - mydydx)/(dydxExact)), label = 'percent error')"
     ],
     "language": "python",
     "metadata": {},
     "outputs": [],
     "prompt_number": 1
    },
    {
     "cell_type": "markdown",
     "metadata": {},
     "source": []
    }
   ],
   "metadata": {}
  }
 ]
}