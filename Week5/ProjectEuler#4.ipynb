{
 "metadata": {
  "name": "ProjectEuler#4"
 },
 "nbformat": 3,
 "nbformat_minor": 0,
 "worksheets": [
  {
   "cells": [
    {
     "cell_type": "code",
     "collapsed": false,
     "input": [
      "# we know the biggest palindrome of 2 digit numbers is 9009 = 91x99\n",
      "def palindrome(little, big): #setting a function to make things easy\n",
      "    total = 0                #starting total is 0\n",
      "    for i in range(little, big, 1): #for each number in the range we're trying to find the largest palindrome of\n",
      "        for j in range(little, i, 1): #for each number starting at our lower limit and going to \"i\" above\n",
      "            k = i * j             # multiply our two numbers\n",
      "            if k > total:         # if the answer is greater than our current total,\n",
      "                s = str(i * j)    # make the answer into a string\n",
      "                if s == s[::-1]:  # if the string is the exact same value both backwards and forwards\n",
      "                    total = i * j #call that our new total and keep going\n",
      "    return total\n",
      "palindrome(10,100) #checking to make sure my function works"
     ],
     "language": "python",
     "metadata": {},
     "outputs": [
      {
       "output_type": "pyout",
       "prompt_number": 32,
       "text": [
        "9009"
       ]
      }
     ],
     "prompt_number": 32
    },
    {
     "cell_type": "code",
     "collapsed": false,
     "input": [
      "palindrome(100,1000)"
     ],
     "language": "python",
     "metadata": {},
     "outputs": [
      {
       "output_type": "pyout",
       "prompt_number": 33,
       "text": [
        "906609"
       ]
      }
     ],
     "prompt_number": 33
    },
    {
     "cell_type": "markdown",
     "metadata": {},
     "source": [
      "The largets 3 digit palindrome is 906609! I tried to make a print command to show what is being multiplied to make this numeric palindrome but it gave me 999 and 998 which does not multiply to make the palindrome."
     ]
    },
    {
     "cell_type": "code",
     "collapsed": false,
     "input": [],
     "language": "python",
     "metadata": {},
     "outputs": []
    }
   ],
   "metadata": {}
  }
 ]
}