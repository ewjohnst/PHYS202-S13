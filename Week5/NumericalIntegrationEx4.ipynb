{
 "metadata": {
  "name": "NumericalIntegrationEx4"
 },
 "nbformat": 3,
 "nbformat_minor": 0,
 "worksheets": [
  {
   "cells": [
    {
     "cell_type": "markdown",
     "metadata": {},
     "source": [
      "Number 1\n",
      "=\n",
      "$E(x) = \\int^x_0 e^{-t^2}dt$"
     ]
    },
    {
     "cell_type": "markdown",
     "metadata": {},
     "source": [
      "A.\n",
      "-\n",
      "Write code to calculate E(x) for values of x from 0-3 in steps of 0.1. Choose for yourself what method you will use for performing the integral and a suitable number of slices."
     ]
    },
    {
     "cell_type": "markdown",
     "metadata": {},
     "source": [
      "I'll use the trapezoidal rule because it seems easiest."
     ]
    },
    {
     "cell_type": "code",
     "collapsed": false,
     "input": [
      "f = lambda x: e**(-x**2)"
     ],
     "language": "python",
     "metadata": {},
     "outputs": [],
     "prompt_number": 53
    },
    {
     "cell_type": "code",
     "collapsed": false,
     "input": [
      "def TrapInt(x,N):\n",
      "    \"\"\"This function takes the integral of a function\"\"\"\n",
      "    #N = 30 #number of trapezoids we'll use, not needed\n",
      "    a = 0. #starting point\n",
      "    b = x #ending point\n",
      "    w = (b-a)/N #width of each trapezoid\n",
      "    s = 0.5*f(a) + 0.5*f(b) #first part of formula\n",
      "    for i in range(1,N): #taking integral\n",
      "        s += f(a+i*w)\n",
      "    return(w*s)\n",
      "print TrapInt(3,30)"
     ],
     "language": "python",
     "metadata": {},
     "outputs": [
      {
       "output_type": "stream",
       "stream": "stdout",
       "text": [
        "0.88620673428\n"
       ]
      }
     ],
     "prompt_number": 115
    },
    {
     "cell_type": "markdown",
     "metadata": {},
     "source": [
      "B.\n",
      "-\n",
      "Make a graph of TrapInt(x) as a function of x."
     ]
    },
    {
     "cell_type": "code",
     "collapsed": false,
     "input": [
      "plot(arange(0.,3.,0.1), TrapInt(arange(0.,3.,0.1),30), label='Integral of $e^{-t^2}$')\n",
      "xlabel('x', fontsize=14)\n",
      "ylabel('$\\int^x_0 e^{-t^2}dt$', fontsize=14)\n",
      "legend(loc = 'lower right')\n",
      "title('Integral of $e^{-t^2}$ vs x')\n",
      "show ()"
     ],
     "language": "python",
     "metadata": {},
     "outputs": [
      {
       "output_type": "display_data",
       "png": "[encoded data removed]"
      }
     ],
     "prompt_number": 86
    },
    {
     "cell_type": "markdown",
     "metadata": {},
     "source": [
      "2.\n",
      "=\n",
      "Consider a particle in a 1D box of width L. The probability of finding the particle between a and b is given by $P(a,b) = \\int^b_a |\\psi(x)|^2dx$"
     ]
    },
    {
     "cell_type": "markdown",
     "metadata": {},
     "source": [
      "A.\n",
      "-\n",
      "What's the probability of finding the particle between L/3 and L/2 for the ground state and and for the first excited state? Perform the integral using both the trapezoidal and quad with an accuracy of 6 sig figs. how many bins did you need to use for trapz?"
     ]
    },
    {
     "cell_type": "code",
     "collapsed": false,
     "input": [
      "psi = lambda x: sqrt(2/L)*sin((n*pi*x)/L)"
     ],
     "language": "python",
     "metadata": {},
     "outputs": [],
     "prompt_number": 127
    },
    {
     "cell_type": "code",
     "collapsed": false,
     "input": [
      "def TrapPsi(n, N, L):\n",
      "    \"\"\"This function takes the integral of a function\"\"\"\n",
      "    psi = lambda x: sqrt(2/L)*sin((n*pi*x)/L)\n",
      "    #L = 1.\n",
      "    #N = 30 #number of trapezoids we'll use, not needed\n",
      "    #n = 1\n",
      "    #range(L/2,L/3, 0.1)\n",
      "    a = L/3. #starting point\n",
      "    b = L/2. #ending point\n",
      "    w = (b-a)/N #width of each trapezoid\n",
      "    s = 0.5*psi(a) + 0.5*psi(b) #first part of formula\n",
      "    for i in range(1,N): #taking integral\n",
      "        s += psi(a+i*w)\n",
      "    return(w*s)\n",
      "print TrapPsi(1., 100000, 1.) #this will print our answer"
     ],
     "language": "python",
     "metadata": {},
     "outputs": [
      {
       "output_type": "stream",
       "stream": "stdout",
       "text": [
        "0.225079079039\n"
       ]
      }
     ],
     "prompt_number": 128
    },
    {
     "cell_type": "code",
     "collapsed": false,
     "input": [
      "import scipy\n",
      "import scipy.integrate as integrate\n",
      "L = 1.; n = 1.\n",
      "answer = integrate.quad(psi, L/3, L/2)\n",
      "print answer\n",
      "#help(integrate.quad), the second number printed is my estimated error"
     ],
     "language": "python",
     "metadata": {},
     "outputs": [
      {
       "output_type": "stream",
       "stream": "stdout",
       "text": [
        "(0.22507907903927654, 2.498879759108303e-15)\n"
       ]
      }
     ],
     "prompt_number": 129
    },
    {
     "cell_type": "markdown",
     "metadata": {},
     "source": [
      "B.\n",
      "-\n",
      "To see if these make sense make a plot of $|\\psi(x)|^2$ vs. x for L=1."
     ]
    },
    {
     "cell_type": "code",
     "collapsed": false,
     "input": [
      "x_range = arange(L/3.,L/2.,0.001); n = 1.; L = 1.\n",
      "psi_squared = (sqrt(2./L)*sin((n*pi*x_range)/L))**2\n",
      "plot(x_range, psi_squared, label='$|\\psi(x)|^2$ vs. x')\n",
      "xlabel('x', fontsize=16)\n",
      "ylabel('$|\\psi_x|^2$', fontsize=16)\n",
      "title('$|\\psi_x|^2$ vs x', fontsize = 18)\n",
      "legend(loc = 'lower right')\n",
      "show()"
     ],
     "language": "python",
     "metadata": {},
     "outputs": [
      {
       "output_type": "pyout",
       "prompt_number": 31,
       "text": [
        "<matplotlib.legend.Legend at 0xb2527b8>"
       ]
      },
      {
       "output_type": "display_data",
       "png": "[encoded data removed]"
      }
     ],
     "prompt_number": 31
    },
    {
     "cell_type": "markdown",
     "metadata": {},
     "source": [
      "3.\n",
      "=\n",
      "The wavefunciton of the n-th energy level of the 1D S.H.O. is $\\psi_n(x) = \\frac{1}{\\sqrt{2^nn!\\sqrt{\\pi}}}e^{\\frac{-x^2}{2}}H_n(x)$\n",
      "\n",
      "where $H_n(x)$ is the n=th Hermite polynomial.The Hermite polynomials satisfy $H_{n+1}(x) = 2xH_n(x)-2nH_{n-1}(x)$\n",
      "The first two Hermite polynomials are $H_0(x) = 1$. and $H_1(x) = 2x$"
     ]
    },
    {
     "cell_type": "markdown",
     "metadata": {},
     "source": [
      "A.\n",
      "-\n",
      "Write a function H(n,x) that calculated $H_n(x)$ for given x and any integer n>0. Use your function to make a plot that shows the wave function for n=0,1,2, and 3, all on the same graph, in the range x = -4 to x = 4. Use the factorial function!"
     ]
    },
    {
     "cell_type": "code",
     "collapsed": false,
     "input": [
      "Hnminus = H_0 = 1\n",
      "Hn = H_1 = 2*x\n",
      "x = 1\n",
      "H_2 = 4*x**2 - 2\n",
      "def H(n,x):\n",
      "    total = 0\n",
      "    H_0 = 1\n",
      "    H_1 = 2*x\n",
      "    #Hnplus = 2*Hn*x - 2*n*Hnminus\n",
      "    #return Hnplus\n",
      "    #Hn = (Hnplus + 2*n*Hnminus)/(2*x)\n",
      "    for i in range(0, n, 1):\n",
      "        Hnplus = 2*Hn*x - 2*n*Hnminus\n",
      "        if Hnplus > total:\n",
      "            H_1 = Hnplus\n",
      "            H_0 = Hn\n",
      "            total = Hnplus\n",
      "    return Hnplus\n",
      "H(2,1)\n",
      "    \n",
      "    "
     ],
     "language": "python",
     "metadata": {},
     "outputs": [
      {
       "output_type": "pyout",
       "prompt_number": 57,
       "text": [
        "0"
       ]
      }
     ],
     "prompt_number": 57
    },
    {
     "cell_type": "code",
     "collapsed": false,
     "input": [],
     "language": "python",
     "metadata": {},
     "outputs": [
      {
       "ename": "NameError",
       "evalue": "name 'hermite' is not defined",
       "output_type": "pyerr",
       "traceback": [
        "\u001b[1;31m---------------------------------------------------------------------------\u001b[0m\n\u001b[1;31mNameError\u001b[0m                                 Traceback (most recent call last)",
        "\u001b[1;32m<ipython-input-55-108e232093ea>\u001b[0m in \u001b[0;36m<module>\u001b[1;34m()\u001b[0m\n\u001b[1;32m----> 1\u001b[1;33m \u001b[0mhelp\u001b[0m\u001b[1;33m(\u001b[0m\u001b[0mhermite\u001b[0m\u001b[1;33m)\u001b[0m\u001b[1;33m\u001b[0m\u001b[0m\n\u001b[0m",
        "\u001b[1;31mNameError\u001b[0m: name 'hermite' is not defined"
       ]
      }
     ],
     "prompt_number": 55
    },
    {
     "cell_type": "code",
     "collapsed": false,
     "input": [],
     "language": "python",
     "metadata": {},
     "outputs": []
    }
   ],
   "metadata": {}
  }
 ]
}