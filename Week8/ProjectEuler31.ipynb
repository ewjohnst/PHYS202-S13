{
 "metadata": {
  "name": "ProjectEuler31"
 },
 "nbformat": 3,
 "nbformat_minor": 0,
 "worksheets": [
  {
   "cells": [
    {
     "cell_type": "markdown",
     "metadata": {},
     "source": [
      "###In England the currency is made up of pound, L, and pence, p, and there are eight coints in general circulation:\n",
      "###    1p, 2p, 5p, 10p, 20p, 50p, 1L(100p), and 2L(200p).\n",
      "###It is possible to make 2L in the following way:\n",
      "###1 x 100p + 1 x 50p + 2 x 20p + 1x5p + 1x2p + 3x1p\n",
      "\n",
      "###How many different ways can 2L be made using any number of coins?"
     ]
    },
    {
     "cell_type": "code",
     "collapsed": false,
     "input": [
      "Onepence = 1 #1\n",
      "Twopence = 2*Onepence #2\n",
      "Fivepence = 5*Onepence #5\n",
      "Tenpence  = 10*Onepence #10\n",
      "Twentypence = 20*Onepence #20\n",
      "Fiftypence = 50*Onepence #50\n",
      "Onepound = 100*Onepence #100\n",
      "Twopound = 200*Onepence #200\n",
      "moneylist = [Onepence,Twopence,Fivepence,Tenpence,Twentypence,Fiftypence,Onepound,Twopound]"
     ],
     "language": "python",
     "metadata": {},
     "outputs": [],
     "prompt_number": 3
    },
    {
     "cell_type": "markdown",
     "metadata": {},
     "source": [
      "Ways to make 5 pence:\n",
      "1,1,1,1,1\n",
      "\n",
      "1,1,1,2\n",
      "\n",
      "1,2,2\n",
      "\n",
      "5\n",
      "\n",
      "so there are 4 ways to make 5 pence"
     ]
    },
    {
     "cell_type": "code",
     "collapsed": false,
     "input": [
      "def ways(amount):\n",
      "    for bill in moneylist:\n",
      "        for \n"
     ],
     "language": "python",
     "metadata": {},
     "outputs": []
    }
   ],
   "metadata": {}
  }
 ]
}