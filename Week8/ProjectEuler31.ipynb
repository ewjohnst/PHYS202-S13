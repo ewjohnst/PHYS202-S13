{
 "metadata": {
  "name": "ProjectEuler31"
 },
 "nbformat": 3,
 "nbformat_minor": 0,
 "worksheets": [
  {
   "cells": [
    {
     "cell_type": "markdown",
     "metadata": {},
     "source": [
      "###In England the currency is made up of pound, L, and pence, p, and there are eight coints in general circulation:\n",
      "###    1p, 2p, 5p, 10p, 20p, 50p, 1L(100p), and 2L(200p).\n",
      "###It is possible to make 2L in the following way:\n",
      "###1 x 100p + 1 x 50p + 2 x 20p + 1x5p + 1x2p + 3x1p\n",
      "\n",
      "###How many different ways can 2L be made using any number of coins?"
     ]
    },
    {
     "cell_type": "code",
     "collapsed": false,
     "input": [],
     "language": "python",
     "metadata": {},
     "outputs": [],
     "prompt_number": 1
    }
   ],
   "metadata": {}
  }
 ]
}